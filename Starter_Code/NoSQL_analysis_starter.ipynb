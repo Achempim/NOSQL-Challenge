{
 "cells": [
  {
   "cell_type": "markdown",
   "id": "9a57c4c6",
   "metadata": {},
   "source": [
    "# Eat Safe, Love"
   ]
  },
  {
   "cell_type": "markdown",
   "id": "064ef857",
   "metadata": {},
   "source": [
    "## Notebook Set Up"
   ]
  },
  {
   "cell_type": "code",
   "execution_count": 56,
   "id": "63d87375",
   "metadata": {},
   "outputs": [],
   "source": [
    "# Import dependencies\n",
    "from pymongo import MongoClient\n",
    "from pprint import pprint\n",
    "import pandas as pd"
   ]
  },
  {
   "cell_type": "code",
   "execution_count": 57,
   "id": "0ceddedd",
   "metadata": {},
   "outputs": [
    {
     "name": "stdout",
     "output_type": "stream",
     "text": [
      "['admin', 'config', 'fruit_db', 'local', 'uk_food']\n"
     ]
    }
   ],
   "source": [
    "# Create an instance of the MongoClient\n",
    "client = MongoClient('mongodb://localhost:27017/')\n",
    "\n",
    "# Connect to the 'uk_food' database\n",
    "db = client.uk_food\n",
    "\n",
    "# Check to confirm that the database exists by listing all databases\n",
    "print(client.list_database_names())\n"
   ]
  },
  {
   "cell_type": "code",
   "execution_count": 58,
   "id": "877ae7ea",
   "metadata": {},
   "outputs": [
    {
     "name": "stdout",
     "output_type": "stream",
     "text": [
      "['establishments']\n"
     ]
    }
   ],
   "source": [
    "# Check to confirm that the 'establishments' collection exists\n",
    "print(db.list_collection_names())"
   ]
  },
  {
   "cell_type": "code",
   "execution_count": 59,
   "id": "59390c4a",
   "metadata": {},
   "outputs": [],
   "source": [
    "# Create an instance of MongoClient\n",
    "mongo = MongoClient(port=27017)"
   ]
  },
  {
   "cell_type": "code",
   "execution_count": 60,
   "id": "71e373c1",
   "metadata": {},
   "outputs": [],
   "source": [
    "# assign the uk_food database to a variable name\n",
    "db = mongo['uk_food']"
   ]
  },
  {
   "cell_type": "code",
   "execution_count": 61,
   "id": "ca9efe2c",
   "metadata": {},
   "outputs": [
    {
     "name": "stdout",
     "output_type": "stream",
     "text": [
      "Collections in 'uk_food' database: ['establishments']\n"
     ]
    }
   ],
   "source": [
    "# Review the collections in our database\n",
    "\n",
    "# Assuming you have already connected to your MongoDB database\n",
    "collections = db.list_collection_names()\n",
    "\n",
    "# Print the list of collections\n",
    "def print_collections(collections):\n",
    "    print(\"Collections in 'uk_food' database:\", collections)\n",
    "\n",
    "# Call the function to print collections\n",
    "print_collections(collections)\n"
   ]
  },
  {
   "cell_type": "code",
   "execution_count": 62,
   "id": "11c9f11b",
   "metadata": {},
   "outputs": [],
   "source": [
    "# assign the collection to a variable\n",
    "establishments = db['establishments']"
   ]
  },
  {
   "cell_type": "markdown",
   "id": "d5671434",
   "metadata": {},
   "source": [
    "## Part 3: Exploratory Analysis\n",
    "Unless otherwise stated, for each question: \n",
    "* Use `count_documents` to display the number of documents contained in the result.\n",
    "* Display the first document in the results using `pprint`.\n",
    "* Convert the result to a Pandas DataFrame, print the number of rows in the DataFrame, and display the first 10 rows."
   ]
  },
  {
   "cell_type": "markdown",
   "id": "314bd884",
   "metadata": {},
   "source": [
    "### 1. Which establishments have a hygiene score equal to 20?"
   ]
  },
  {
   "cell_type": "code",
   "execution_count": 63,
   "id": "d54aae06",
   "metadata": {},
   "outputs": [
    {
     "name": "stdout",
     "output_type": "stream",
     "text": [
      "Number of establishments with a hygiene score of 20: 0\n",
      "First establishment with a hygiene score of 20:\n",
      "None\n"
     ]
    }
   ],
   "source": [
    "# Create an instance of MongoClient and access the database\n",
    "mongo = MongoClient(port=27017)\n",
    "db = mongo['uk_food']\n",
    "collection = db['establishments']\n",
    "\n",
    "# Define the query to find establishments with a hygiene score of 20\n",
    "query = {\"HygieneScore\": 20}\n",
    "\n",
    "# Use count_documents to display the number of documents in the result\n",
    "count = collection.count_documents(query)\n",
    "print(f\"Number of establishments with a hygiene score of 20: {count}\")\n",
    "\n",
    "# Display the first document in the results using pprint\n",
    "first_document = collection.find_one(query)\n",
    "print(\"First establishment with a hygiene score of 20:\")\n",
    "pprint(first_document)\n"
   ]
  },
  {
   "cell_type": "code",
   "execution_count": 64,
   "id": "3ff4deb1",
   "metadata": {},
   "outputs": [],
   "source": [
    "# Create an instance of MongoClient and access the database\n",
    "mongo = MongoClient(port=27017)\n",
    "db = mongo['uk_food']\n",
    "collections = db['establishments']"
   ]
  },
  {
   "cell_type": "code",
   "execution_count": 65,
   "id": "4101e013",
   "metadata": {},
   "outputs": [
    {
     "name": "stdout",
     "output_type": "stream",
     "text": [
      "Distinct hygiene scores available: []\n"
     ]
    }
   ],
   "source": [
    "# Verify the field names and check available hygiene scores\n",
    "# Assuming 'collections' is a reference to the specific collection you want to query\n",
    "\n",
    "# Query to find distinct hygiene scores\n",
    "hygiene_scores = collections.distinct('HygieneScore')\n",
    "print(f\"Distinct hygiene scores available: {hygiene_scores}\")\n",
    "\n",
    "# If you want to create a DataFrame from the hygiene scores\n",
    "import pandas as pd\n",
    "\n",
    "# Creating a DataFrame from the distinct hygiene scores\n",
    "df_hygiene_score = pd.DataFrame(hygiene_scores, columns=['HygieneScore'])\n"
   ]
  },
  {
   "cell_type": "markdown",
   "id": "0ef4395a",
   "metadata": {},
   "source": [
    "### 2. Which establishments in London have a `RatingValue` greater than or equal to 4?"
   ]
  },
  {
   "cell_type": "code",
   "execution_count": 66,
   "id": "7e9bb2c8",
   "metadata": {},
   "outputs": [
    {
     "name": "stdout",
     "output_type": "stream",
     "text": [
      "Number of establishments in London with a RatingValue > 4: 0\n"
     ]
    }
   ],
   "source": [
    "# Query to count establishments in London with a RatingValue > 4\n",
    "establishments = db['establishments']  # Replace with your actual collection name\n",
    "count_high_rated_establishments = establishments.count_documents({\n",
    "    'RatingValue': {'$gt': 4},  # Greater than 4\n",
    "    'Address.LocalAuthorityArea': 'London'  # Filter for London establishments\n",
    "})\n",
    "\n",
    "# Print the count\n",
    "print(f\"Number of establishments in London with a RatingValue > 4: {count_high_rated_establishments}\")\n"
   ]
  },
  {
   "cell_type": "code",
   "execution_count": 67,
   "id": "c1d27ae7",
   "metadata": {},
   "outputs": [
    {
     "name": "stdout",
     "output_type": "stream",
     "text": [
      "Empty DataFrame\n",
      "Columns: []\n",
      "Index: []\n"
     ]
    }
   ],
   "source": [
    "# Convert the cursor to a list and then to a DataFrame\n",
    "high_rated_establishments_list = list(high_rated_establishments_cursor)\n",
    "df_high_rated_establishments = pd.DataFrame(high_rated_establishments_list)\n",
    "\n",
    "# Print the DataFrame\n",
    "print(df_high_rated_establishments)\n"
   ]
  },
  {
   "cell_type": "code",
   "execution_count": 68,
   "id": "8f2a34f9",
   "metadata": {},
   "outputs": [
    {
     "name": "stdout",
     "output_type": "stream",
     "text": [
      "Number of rows: 0\n"
     ]
    }
   ],
   "source": [
    "# 2. Display the number of rows in the DataFrame\n",
    "print(f\"Number of rows: {df_hygiene_scores.shape[0]}\")"
   ]
  },
  {
   "cell_type": "code",
   "execution_count": 69,
   "id": "add4b380",
   "metadata": {},
   "outputs": [
    {
     "name": "stdout",
     "output_type": "stream",
     "text": [
      "Empty DataFrame\n",
      "Columns: []\n",
      "Index: []\n"
     ]
    }
   ],
   "source": [
    "# Display the first 10 rows of the DataFrame\n",
    "print(df_hygiene_scores.head(10))"
   ]
  },
  {
   "attachments": {},
   "cell_type": "markdown",
   "id": "4e570caf",
   "metadata": {},
   "source": [
    "### 3. What are the top 5 establishments with a `RatingValue` rating value of 5, sorted by lowest hygiene score, nearest to the new restaurant added, \"Penang Flavours\"?"
   ]
  },
  {
   "cell_type": "code",
   "execution_count": 70,
   "id": "c8909457",
   "metadata": {},
   "outputs": [],
   "source": [
    "# Parameters for the search\n",
    "degree_search = 0.01\n",
    "latitude = 51.509865   # Example: Latitude of London\n",
    "longitude = -0.118092  # Example: Longitude of London\n",
    "\n",
    "# Construct the query: Latitude/Longitude range and Rating = 5\n",
    "query = {\n",
    "    \"Latitude\": {\"$gt\": latitude - degree_search, \"$lt\": latitude + degree_search},\n",
    "    \"Longitude\": {\"$gt\": longitude - degree_search, \"$lt\": longitude + degree_search},\n",
    "    \"RatingValue\": 5\n",
    "}"
   ]
  },
  {
   "cell_type": "code",
   "execution_count": 71,
   "id": "192d673a",
   "metadata": {},
   "outputs": [
    {
     "name": "stdout",
     "output_type": "stream",
     "text": [
      "'Number of rows: 0'\n"
     ]
    }
   ],
   "source": [
    "# Sort by hygiene score in ascending order (use -1 for descending)\n",
    "sort = [(\"HygieneScore\", 1)]\n",
    "\n",
    "# Limit the results (example: limit to 10 results)\n",
    "limit = 10\n",
    "\n",
    "# Execute the query with sorting and limit\n",
    "results = collections.find(query).sort(sort).limit(limit)\n",
    "\n",
    "# Convert the results to a Pandas DataFrame\n",
    "df_results = pd.DataFrame(list(results))\n",
    "\n",
    "# 1. Print the number of rows in the DataFrame\n",
    "pprint(f\"Number of rows: {df_results.shape[0]}\")"
   ]
  },
  {
   "cell_type": "code",
   "execution_count": 72,
   "id": "a6ad16f7",
   "metadata": {},
   "outputs": [
    {
     "name": "stdout",
     "output_type": "stream",
     "text": [
      "[]\n"
     ]
    }
   ],
   "source": [
    "# 2. Display the first 10 rows of the DataFrame using pprint\n",
    "pprint(df_results.head(10).to_dict('records'))\n"
   ]
  },
  {
   "cell_type": "markdown",
   "id": "67281254",
   "metadata": {},
   "source": [
    "### 4. How many establishments in each Local Authority area have a hygiene score of 0?"
   ]
  },
  {
   "cell_type": "code",
   "execution_count": 73,
   "id": "c776813d",
   "metadata": {},
   "outputs": [
    {
     "name": "stdout",
     "output_type": "stream",
     "text": [
      "'Number of Local Authorities: 0'\n",
      "[]\n"
     ]
    }
   ],
   "source": [
    "# Define the aggregation pipeline\n",
    "pipeline = [\n",
    "    # 1. Match establishments with a hygiene score of 0\n",
    "    {\"$match\": {\"HygieneScore\": 0}},\n",
    "    \n",
    "    # 2. Group by Local Authority and count the number of establishments\n",
    "    {\"$group\": {\n",
    "        \"_id\": \"$LocalAuthority\",        # Group by Local Authority\n",
    "        \"count\": {\"$sum\": 1}             # Count number of establishments\n",
    "    }},\n",
    "    \n",
    "    # 3. Sort the results by count in descending order\n",
    "    {\"$sort\": {\"count\": -1}}\n",
    "]\n",
    "\n",
    "# Execute the aggregation pipeline\n",
    "results = collection.aggregate(pipeline)\n",
    "\n",
    "# Convert the aggregation result to a list\n",
    "results_list = list(results)\n",
    "\n",
    "# 4. Print the number of documents in the result\n",
    "pprint(f\"Number of Local Authorities: {len(results_list)}\")\n",
    "\n",
    "# 5. Print the first 10 results\n",
    "pprint(results_list[:10])\n"
   ]
  },
  {
   "cell_type": "code",
   "execution_count": 74,
   "id": "8d45c834",
   "metadata": {},
   "outputs": [
    {
     "name": "stdout",
     "output_type": "stream",
     "text": [
      "'Number of rows in DataFrame: 0'\n",
      "[]\n"
     ]
    }
   ],
   "source": [
    "# Execute the aggregation pipeline\n",
    "results = collection.aggregate(pipeline)\n",
    "\n",
    "# Convert the aggregation result to a list\n",
    "results_list = list(results)\n",
    "\n",
    "# Convert the result to a Pandas DataFrame\n",
    "df_results = pd.DataFrame(results_list)\n",
    "\n",
    "# 1. Display the number of rows in the DataFrame\n",
    "pprint(f\"Number of rows in DataFrame: {df_results.shape[0]}\")\n",
    "\n",
    "# 2. Display the first 10 rows of the DataFrame\n",
    "pprint(df_results.head(10).to_dict('records'))\n"
   ]
  }
 ],
 "metadata": {
  "kernelspec": {
   "display_name": "base",
   "language": "python",
   "name": "python3"
  },
  "language_info": {
   "codemirror_mode": {
    "name": "ipython",
    "version": 3
   },
   "file_extension": ".py",
   "mimetype": "text/x-python",
   "name": "python",
   "nbconvert_exporter": "python",
   "pygments_lexer": "ipython3",
   "version": "3.11.7"
  }
 },
 "nbformat": 4,
 "nbformat_minor": 5
}
