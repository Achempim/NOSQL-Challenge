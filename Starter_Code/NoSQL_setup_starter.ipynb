{
 "cells": [
  {
   "cell_type": "markdown",
   "id": "9a57c4c6",
   "metadata": {},
   "source": [
    "# Eat Safe, Love"
   ]
  },
  {
   "cell_type": "markdown",
   "id": "064ef857",
   "metadata": {},
   "source": [
    "## Part 1: Database and Jupyter Notebook Set Up"
   ]
  },
  {
   "cell_type": "markdown",
   "id": "664e3c1f",
   "metadata": {},
   "source": [
    "Import the data provided in the `establishments.json` file from your Terminal. Name the database `uk_food` and the collection `establishments`.\n",
    "\n",
    "Within this markdown cell, copy the line of text you used to import the data from your Terminal. This way, future analysts will be able to repeat your process.\n",
    "\n",
    "e.g.: Import the dataset with `YOUR IMPORT TEXT HERE`"
   ]
  },
  {
   "cell_type": "code",
   "execution_count": 3,
   "id": "3ecdd008",
   "metadata": {},
   "outputs": [],
   "source": [
    "# Import dependencies\n",
    "from pymongo import MongoClient\n",
    "from pprint import pprint  # Useful for pretty-printing the MongoDB documents"
   ]
  },
  {
   "cell_type": "code",
   "execution_count": 4,
   "id": "118213b9",
   "metadata": {},
   "outputs": [],
   "source": [
    "# Connect to MongoDB (assuming MongoDB is running on localhost and default port 27017)\n",
    "client = MongoClient(\"mongodb://localhost:27017/\")"
   ]
  },
  {
   "cell_type": "code",
   "execution_count": 9,
   "id": "3c570b92",
   "metadata": {},
   "outputs": [
    {
     "name": "stdout",
     "output_type": "stream",
     "text": [
      "['admin', 'config', 'fruit_db', 'local', 'uk_food']\n"
     ]
    }
   ],
   "source": [
    "# List all databases to confirm that 'uk_food' is in the list\n",
    "print(client.list_database_names())"
   ]
  },
  {
   "cell_type": "markdown",
   "id": "246d2d12",
   "metadata": {},
   "source": [
    " Access the uk_food Database and List Its Collections"
   ]
  },
  {
   "cell_type": "code",
   "execution_count": 10,
   "id": "f6b150e6",
   "metadata": {},
   "outputs": [
    {
     "name": "stdout",
     "output_type": "stream",
     "text": [
      "['establishments']\n"
     ]
    }
   ],
   "source": [
    "# Access the 'uk_food' database\n",
    "db = client['uk_food']\n",
    "\n",
    "# List collections in the 'uk_food' database to ensure 'establishments' is present\n",
    "print(db.list_collection_names())\n"
   ]
  },
  {
   "cell_type": "code",
   "execution_count": 11,
   "id": "d0df3f43",
   "metadata": {},
   "outputs": [
    {
     "name": "stdout",
     "output_type": "stream",
     "text": [
      "{'AddressLine1': '123 Gourmet Avenue',\n",
      " 'AddressLine2': '',\n",
      " 'AddressLine3': '',\n",
      " 'AddressLine4': '',\n",
      " 'BusinessName': 'The Golden Spoon',\n",
      " 'BusinessType': 'Restaurant',\n",
      " 'Phone': '01234 567890',\n",
      " 'PostCode': 'XY12 3AB',\n",
      " 'RatingDate': '2024-09-16',\n",
      " 'RatingValue': 5,\n",
      " '_id': ObjectId('66e7b4977fdb20184b3aad3f'),\n",
      " 'latitude': None,\n",
      " 'longitude': None}\n"
     ]
    }
   ],
   "source": [
    "# Access the 'establishments' collection\n",
    "establishments = db['establishments']\n",
    "\n",
    "# Find and display one document from the 'establishments' collection using find_one\n",
    "document = establishments.find_one()\n",
    "pprint(document)"
   ]
  },
  {
   "cell_type": "markdown",
   "id": "413ed60b",
   "metadata": {},
   "source": [
    "Review Collections in the Database"
   ]
  },
  {
   "cell_type": "code",
   "execution_count": 35,
   "id": "3ccd2f64",
   "metadata": {},
   "outputs": [
    {
     "name": "stdout",
     "output_type": "stream",
     "text": [
      "Collections in 'uk_food' database: ['establishments']\n"
     ]
    }
   ],
   "source": [
    "# 7# Review the collections in our new database\n",
    "collections = db.list_collection_names()  # List all collections in the 'uk_food' database\n",
    "print(f\"Collections in 'uk_food' database: {collections}\")  # Print collections to confirm\n"
   ]
  },
  {
   "cell_type": "markdown",
   "id": "271a16a3",
   "metadata": {},
   "source": [
    " Assign the 'establishments' Collection to a Variable"
   ]
  },
  {
   "cell_type": "code",
   "execution_count": 36,
   "id": "b70fd291",
   "metadata": {},
   "outputs": [],
   "source": [
    "# 8# Assign the 'establishments' collection to a variable\n",
    "establishments = db['establishments']  # Now the 'establishments' collection is assigned to 'establishments' variable"
   ]
  },
  {
   "cell_type": "markdown",
   "id": "d5671434",
   "metadata": {},
   "source": [
    "## Part 2: Update the Database"
   ]
  },
  {
   "cell_type": "markdown",
   "id": "314bd884",
   "metadata": {},
   "source": [
    "1. An exciting new halal restaurant just opened in Greenwich, but hasn't been rated yet. The magazine has asked you to include it in your analysis. Add the following restaurant \"Penang Flavours\" to the database."
   ]
  },
  {
   "cell_type": "markdown",
   "id": "8a75e03e",
   "metadata": {},
   "source": [
    "Create a Dictionary for \"Penang Flavours"
   ]
  },
  {
   "cell_type": "code",
   "execution_count": 38,
   "id": "36b628e1",
   "metadata": {},
   "outputs": [
    {
     "name": "stdout",
     "output_type": "stream",
     "text": [
      "{'AddressLine1': '123 Malaysia Street',\n",
      " 'AddressLine2': '',\n",
      " 'AddressLine3': '',\n",
      " 'AddressLine4': 'London',\n",
      " 'BusinessName': 'Penang Flavours',\n",
      " 'BusinessType': 'Restaurant/Cafe/Canteen',\n",
      " 'BusinessTypeID': 1,\n",
      " 'Geocode': {'latitude': 51.511, 'longitude': -0.131},\n",
      " 'Halal': False,\n",
      " 'LocalAuthorityName': 'Westminster',\n",
      " 'PostCode': 'W1D 5BL',\n",
      " 'RatingValue': None,\n",
      " 'Scores': {'ConfidenceInManagement': None,\n",
      "            'Hygiene': None,\n",
      "            'Structural': None},\n",
      " '_id': ObjectId('66f9f9d7b5144297d141429b')}\n"
     ]
    }
   ],
   "source": [
    "# Step 1: Create a dictionary for \"Penang Flavours\"\n",
    "penang_flavours = {\n",
    "    \"BusinessName\": \"Penang Flavours\",\n",
    "    \"BusinessType\": \"Restaurant/Cafe/Canteen\",\n",
    "    \"AddressLine1\": \"123 Malaysia Street\",\n",
    "    \"AddressLine2\": \"\",\n",
    "    \"AddressLine3\": \"\",\n",
    "    \"AddressLine4\": \"London\",\n",
    "    \"PostCode\": \"W1D 5BL\",\n",
    "    \"RatingValue\": None,  # Not rated yet\n",
    "    \"LocalAuthorityName\": \"Westminster\",\n",
    "    \"Geocode\": {\n",
    "        \"longitude\": -0.131,\n",
    "        \"latitude\": 51.511\n",
    "    },\n",
    "    \"Scores\": {\n",
    "        \"Hygiene\": None,  # Not rated yet\n",
    "        \"Structural\": None,  # Not rated yet\n",
    "        \"ConfidenceInManagement\": None  # Not rated yet\n",
    "    },\n",
    "    \"BusinessTypeID\": 1,  # Assuming this is the same for \"Restaurant/Cafe/Canteen\"\n",
    "    \"Halal\": False  # Assuming the restaurant is not halal (adjust if necessary)\n",
    "}\n",
    "\n",
    "# Step 2: Insert the new restaurant into the 'establishments' collection\n",
    "establishments.insert_one(penang_flavours)\n",
    "\n",
    "# Step 3: Verify the insertion by finding and printing the new document\n",
    "pprint(establishments.find_one({\"BusinessName\": \"Penang Flavours\"}))\n"
   ]
  },
  {
   "cell_type": "markdown",
   "id": "0a3ccd8a",
   "metadata": {},
   "source": [
    "Create a Dictionary for \"Restaurant/Cafe/Canteen\""
   ]
  },
  {
   "cell_type": "code",
   "execution_count": 39,
   "id": "3fdaa969",
   "metadata": {},
   "outputs": [
    {
     "name": "stdout",
     "output_type": "stream",
     "text": [
      "{'AddressLine1': '123 High Street',\n",
      " 'AddressLine2': '',\n",
      " 'AddressLine3': '',\n",
      " 'AddressLine4': 'London',\n",
      " 'BusinessName': 'New Restaurant',\n",
      " 'BusinessType': 'Restaurant/Cafe/Canteen',\n",
      " 'Geocode': {'latitude': 51.5201, 'longitude': -0.0711},\n",
      " 'LocalAuthorityName': 'Tower Hamlets',\n",
      " 'PostCode': 'E1 6AN',\n",
      " 'RatingValue': '5',\n",
      " 'Scores': {'ConfidenceInManagement': 5, 'Hygiene': 5, 'Structural': 5},\n",
      " '_id': ObjectId('66f9f204b5144297d1414299')}\n"
     ]
    }
   ],
   "source": [
    "# Create a dictionary for the new restaurant data\n",
    "new_restaurant = {\n",
    "    \"BusinessName\": \"New Restaurant\",\n",
    "    \"BusinessType\": \"Restaurant/Cafe/Canteen\",\n",
    "    \"AddressLine1\": \"123 High Street\",\n",
    "    \"AddressLine2\": \"\",\n",
    "    \"AddressLine3\": \"\",\n",
    "    \"AddressLine4\": \"London\",\n",
    "    \"PostCode\": \"E1 6AN\",\n",
    "    \"RatingValue\": \"5\",  # Assuming rating is a string in the data\n",
    "    \"LocalAuthorityName\": \"Tower Hamlets\",\n",
    "    \"Geocode\": {\n",
    "        \"longitude\": -0.0711,\n",
    "        \"latitude\": 51.5201\n",
    "    },\n",
    "    \"Scores\": {\n",
    "        \"Hygiene\": 5,\n",
    "        \"Structural\": 5,\n",
    "        \"ConfidenceInManagement\": 5\n",
    "    }\n",
    "}\n",
    "# Insert the new restaurant into the 'establishments' collection\n",
    "establishments.insert_one(new_restaurant)\n",
    "\n",
    "# Verify the insertion by finding and printing the newly inserted document\n",
    "pprint(establishments.find_one({\"BusinessName\": \"New Restaurant\"}))"
   ]
  },
  {
   "cell_type": "code",
   "execution_count": 19,
   "id": "cf055f2f",
   "metadata": {},
   "outputs": [
    {
     "name": "stdout",
     "output_type": "stream",
     "text": [
      "All restaurants in the 'establishments' collection:\n",
      "{'AddressLine1': '123 Gourmet Avenue',\n",
      " 'AddressLine2': '',\n",
      " 'AddressLine3': '',\n",
      " 'AddressLine4': '',\n",
      " 'BusinessName': 'The Golden Spoon',\n",
      " 'BusinessType': 'Restaurant',\n",
      " 'Phone': '01234 567890',\n",
      " 'PostCode': 'XY12 3AB',\n",
      " 'RatingDate': '2024-09-16',\n",
      " 'RatingValue': 5,\n",
      " '_id': ObjectId('66e7b4977fdb20184b3aad3f'),\n",
      " 'latitude': None,\n",
      " 'longitude': None}\n",
      "{'AddressLine1': '123 Gourmet Avenue',\n",
      " 'AddressLine2': '',\n",
      " 'AddressLine3': '',\n",
      " 'AddressLine4': '',\n",
      " 'BusinessName': 'The Golden Spoon',\n",
      " 'BusinessType': 'Restaurant',\n",
      " 'Phone': '01234 567890',\n",
      " 'PostCode': 'XY12 3AB',\n",
      " 'RatingDate': '2024-09-16',\n",
      " 'RatingValue': 5,\n",
      " '_id': ObjectId('66e7b5197fdb20184b3aad40'),\n",
      " 'latitude': None,\n",
      " 'longitude': None}\n",
      "{'AddressLine1': '123 Gourmet Avenue',\n",
      " 'AddressLine2': '',\n",
      " 'AddressLine3': '',\n",
      " 'AddressLine4': '',\n",
      " 'BusinessName': 'The Golden Spoon',\n",
      " 'BusinessType': 'Restaurant',\n",
      " 'Phone': '01234 567890',\n",
      " 'PostCode': 'XY12 3AB',\n",
      " 'RatingDate': '2024-09-16',\n",
      " 'RatingValue': 5,\n",
      " '_id': ObjectId('66e7ba467fdb20184b3aad43'),\n",
      " 'latitude': None,\n",
      " 'longitude': None}\n",
      "{'AddressLine1': '123 Gourmet Avenue',\n",
      " 'AddressLine2': '',\n",
      " 'AddressLine3': '',\n",
      " 'AddressLine4': '',\n",
      " 'BusinessName': 'The Golden Spoon',\n",
      " 'BusinessType': 'Restaurant',\n",
      " 'Phone': '01234 567890',\n",
      " 'PostCode': 'XY12 3AB',\n",
      " 'RatingDate': '2024-09-16',\n",
      " 'RatingValue': 5,\n",
      " '_id': ObjectId('66e7c1a67fdb20184b3aad46'),\n",
      " 'latitude': None,\n",
      " 'longitude': None}\n",
      "{'AddressLine1': '123 Gourmet Avenue',\n",
      " 'AddressLine2': '',\n",
      " 'AddressLine3': '',\n",
      " 'AddressLine4': '',\n",
      " 'BusinessName': 'The Golden Spoon',\n",
      " 'BusinessType': 'Restaurant',\n",
      " 'Phone': '01234 567890',\n",
      " 'PostCode': 'XY12 3AB',\n",
      " 'RatingDate': '2024-09-16',\n",
      " 'RatingValue': 5,\n",
      " '_id': ObjectId('66e8afd154ab1bf63c724675'),\n",
      " 'latitude': None,\n",
      " 'longitude': None}\n",
      "{'AddressLine1': '123 Gourmet Avenue',\n",
      " 'AddressLine2': '',\n",
      " 'AddressLine3': '',\n",
      " 'AddressLine4': '',\n",
      " 'BusinessName': 'The Golden Spoon',\n",
      " 'BusinessType': 'Restaurant',\n",
      " 'Phone': '01234 567890',\n",
      " 'PostCode': 'XY12 3AB',\n",
      " 'RatingDate': '2024-09-16',\n",
      " 'RatingValue': 5,\n",
      " '_id': ObjectId('66e8bfc754ab1bf63c724679'),\n",
      " 'latitude': None,\n",
      " 'longitude': None}\n",
      "{'AddressLine1': '123 Gourmet Avenue',\n",
      " 'AddressLine2': '',\n",
      " 'AddressLine3': '',\n",
      " 'AddressLine4': '',\n",
      " 'BusinessName': 'The Golden Spoon',\n",
      " 'BusinessType': 'Restaurant',\n",
      " 'Phone': '01234 567890',\n",
      " 'PostCode': 'XY12 3AB',\n",
      " 'RatingDate': '2024-09-16',\n",
      " 'RatingValue': 5,\n",
      " '_id': ObjectId('66e8c28ab53de022455c2615'),\n",
      " 'latitude': None,\n",
      " 'longitude': None}\n",
      "{'AddressLine1': '123 Gourmet Avenue',\n",
      " 'AddressLine2': '',\n",
      " 'AddressLine3': '',\n",
      " 'AddressLine4': '',\n",
      " 'BusinessName': 'The Golden Spoon',\n",
      " 'BusinessType': 'Restaurant',\n",
      " 'Phone': '01234 567890',\n",
      " 'PostCode': 'XY12 3AB',\n",
      " 'RatingDate': '2024-09-16',\n",
      " 'RatingValue': 5,\n",
      " '_id': ObjectId('66e8c2ceb12e77716ad75872'),\n",
      " 'latitude': None,\n",
      " 'longitude': None}\n",
      "{'AddressLine1': '123 Gourmet Avenue',\n",
      " 'AddressLine2': '',\n",
      " 'AddressLine3': '',\n",
      " 'AddressLine4': '',\n",
      " 'BusinessName': 'The Golden Spoon',\n",
      " 'BusinessType': 'Restaurant',\n",
      " 'Phone': '01234 567890',\n",
      " 'PostCode': 'XY12 3AB',\n",
      " 'RatingDate': '2024-09-16',\n",
      " 'RatingValue': 5,\n",
      " '_id': ObjectId('66f22426d9e5d9b05afa848c'),\n",
      " 'latitude': None,\n",
      " 'longitude': None}\n",
      "{'AddressLine1': '123 Gourmet Avenue',\n",
      " 'AddressLine2': '',\n",
      " 'AddressLine3': '',\n",
      " 'AddressLine4': '',\n",
      " 'BusinessName': 'The Golden Spoon',\n",
      " 'BusinessType': 'Restaurant',\n",
      " 'Phone': '01234 567890',\n",
      " 'PostCode': 'XY12 3AB',\n",
      " 'RatingDate': '2024-09-16',\n",
      " 'RatingValue': 5,\n",
      " '_id': ObjectId('66f2243fd9e5d9b05afa848d'),\n",
      " 'latitude': None,\n",
      " 'longitude': None}\n",
      "{'AddressLine1': '123 Gourmet Avenue',\n",
      " 'AddressLine2': '',\n",
      " 'AddressLine3': '',\n",
      " 'AddressLine4': '',\n",
      " 'BusinessName': 'The Golden Spoon',\n",
      " 'BusinessType': 'Restaurant',\n",
      " 'Phone': '01234 567890',\n",
      " 'PostCode': 'XY12 3AB',\n",
      " 'RatingDate': '2024-09-16',\n",
      " 'RatingValue': 5,\n",
      " '_id': ObjectId('66f228ffd9e5d9b05afa8490'),\n",
      " 'latitude': None,\n",
      " 'longitude': None}\n",
      "{'AddressLine1': '123 Gourmet Avenue',\n",
      " 'AddressLine2': '',\n",
      " 'AddressLine3': '',\n",
      " 'AddressLine4': '',\n",
      " 'BusinessName': 'The Golden Spoon',\n",
      " 'BusinessType': 'Restaurant',\n",
      " 'Phone': '01234 567890',\n",
      " 'PostCode': 'XY12 3AB',\n",
      " 'RatingDate': '2024-09-16',\n",
      " 'RatingValue': 5,\n",
      " '_id': ObjectId('66f2301c8a7472b7ba7fa15c'),\n",
      " 'latitude': None,\n",
      " 'longitude': None}\n",
      "{'AddressLine1': '123 High Street',\n",
      " 'AddressLine2': '',\n",
      " 'AddressLine3': '',\n",
      " 'AddressLine4': 'London',\n",
      " 'BusinessName': 'New Restaurant',\n",
      " 'BusinessType': 'Restaurant/Cafe/Canteen',\n",
      " 'Geocode': {'latitude': 51.5201, 'longitude': -0.0711},\n",
      " 'LocalAuthorityName': 'Tower Hamlets',\n",
      " 'PostCode': 'E1 6AN',\n",
      " 'RatingValue': '5',\n",
      " 'Scores': {'ConfidenceInManagement': 5, 'Hygiene': 5, 'Structural': 5},\n",
      " '_id': ObjectId('66f9f204b5144297d1414299')}\n"
     ]
    }
   ],
   "source": [
    "# Retrieve and print all documents in the 'establishments' collection\n",
    "all_entries = establishments.find()  # Using find() without a filter to get all documents\n",
    "\n",
    "from pprint import pprint\n",
    "print(\"All restaurants in the 'establishments' collection:\")\n",
    "\n",
    "# Loop through and print each document in the collection\n",
    "for entry in all_entries:\n",
    "    pprint(entry)  # Pretty-print each document\n"
   ]
  },
  {
   "cell_type": "markdown",
   "id": "495ceccd",
   "metadata": {},
   "source": [
    " Create a Dictionary for the New Halal Restaurant"
   ]
  },
  {
   "cell_type": "code",
   "execution_count": 34,
   "id": "fd3df659",
   "metadata": {},
   "outputs": [
    {
     "name": "stdout",
     "output_type": "stream",
     "text": [
      "{'AddressLine1': '10 Greenwich High Road',\n",
      " 'AddressLine2': '',\n",
      " 'AddressLine3': '',\n",
      " 'AddressLine4': 'Greenwich',\n",
      " 'BusinessName': 'Greenwich Halal Restaurant',\n",
      " 'BusinessType': 'Restaurant/Cafe/Canteen',\n",
      " 'Geocode': {'latitude': 51.4781, 'longitude': 0.0098},\n",
      " 'Halal': True,\n",
      " 'LocalAuthorityName': 'Greenwich',\n",
      " 'PostCode': 'SE10 8JQ',\n",
      " 'RatingValue': None,\n",
      " 'Scores': {'ConfidenceInManagement': None,\n",
      "            'Hygiene': None,\n",
      "            'Structural': None},\n",
      " '_id': ObjectId('66f9f849b5144297d141429a')}\n"
     ]
    }
   ],
   "source": [
    "# Step 1: Create a dictionary for the new halal restaurant\n",
    "new_halal_restaurant = {\n",
    "    \"BusinessName\": \"Greenwich Halal Restaurant\",\n",
    "    \"BusinessType\": \"Restaurant/Cafe/Canteen\",\n",
    "    \"AddressLine1\": \"10 Greenwich High Road\",\n",
    "    \"AddressLine2\": \"\",\n",
    "    \"AddressLine3\": \"\",\n",
    "    \"AddressLine4\": \"Greenwich\",\n",
    "    \"PostCode\": \"SE10 8JQ\",\n",
    "    \"RatingValue\": None,  # Not rated yet\n",
    "    \"LocalAuthorityName\": \"Greenwich\",\n",
    "    \"Geocode\": {\n",
    "        \"longitude\": 0.0098,\n",
    "        \"latitude\": 51.4781\n",
    "    },\n",
    "    \"Scores\": {\n",
    "        \"Hygiene\": None,\n",
    "        \"Structural\": None,\n",
    "        \"ConfidenceInManagement\": None\n",
    "    },\n",
    "    \"Halal\": True  # Custom field to indicate it's a halal restaurant\n",
    "}\n",
    "\n",
    "# Insert the new restaurant into the 'establishments' collection\n",
    "establishments.insert_one(new_halal_restaurant)\n",
    "\n",
    "# Verify the insertion\n",
    "pprint(establishments.find_one({\"BusinessName\": \"Greenwich Halal Restaurant\"}))\n"
   ]
  },
  {
   "cell_type": "markdown",
   "id": "1d10f866",
   "metadata": {},
   "source": [
    "Update the New Restaurant with BusinessTypeID"
   ]
  },
  {
   "cell_type": "code",
   "execution_count": 40,
   "id": "7f09d8f0",
   "metadata": {},
   "outputs": [
    {
     "name": "stdout",
     "output_type": "stream",
     "text": [
      "Updated document for 'Greenwich Halal Restaurant':\n",
      "{'AddressLine1': '10 Greenwich High Road',\n",
      " 'AddressLine2': '',\n",
      " 'AddressLine3': '',\n",
      " 'AddressLine4': 'Greenwich',\n",
      " 'BusinessName': 'Greenwich Halal Restaurant',\n",
      " 'BusinessType': 'Restaurant/Cafe/Canteen',\n",
      " 'BusinessTypeID': 1,\n",
      " 'Geocode': {'latitude': 51.4781, 'longitude': 0.0098},\n",
      " 'Halal': True,\n",
      " 'LocalAuthorityName': 'Greenwich',\n",
      " 'PostCode': 'SE10 8JQ',\n",
      " 'RatingValue': None,\n",
      " 'Scores': {'ConfidenceInManagement': None,\n",
      "            'Hygiene': None,\n",
      "            'Structural': None},\n",
      " '_id': ObjectId('66f9f849b5144297d141429a')}\n"
     ]
    }
   ],
   "source": [
    "# Update the new restaurant with BusinessTypeID\n",
    "# Assuming BusinessTypeID for \"Restaurant/Cafe/Canteen\" is 1\n",
    "business_type_id = 1\n",
    "\n",
    "# Update the 'BusinessTypeID' field for \"Greenwich Halal Restaurant\"\n",
    "establishments.update_one(\n",
    "    {\"BusinessName\": \"Greenwich Halal Restaurant\"},  # Query to find the document\n",
    "    {\"$set\": {\"BusinessTypeID\": business_type_id}}   # Update operation to set BusinessTypeID to 1\n",
    ")\n",
    "\n",
    "# Step 5: Verify the update by retrieving and printing the updated document\n",
    "updated_restaurant = establishments.find_one({\"BusinessName\": \"Greenwich Halal Restaurant\"})\n",
    "print(\"Updated document for 'Greenwich Halal Restaurant':\")\n",
    "pprint(updated_restaurant)"
   ]
  },
  {
   "cell_type": "markdown",
   "id": "0ef4395a",
   "metadata": {},
   "source": [
    "2. Find the BusinessTypeID for \"Restaurant/Cafe/Canteen\" and return only the `BusinessTypeID` and `BusinessType` fields."
   ]
  },
  {
   "cell_type": "code",
   "execution_count": 46,
   "id": "b8f950c9",
   "metadata": {},
   "outputs": [
    {
     "name": "stdout",
     "output_type": "stream",
     "text": [
      "{'BusinessType': 'Restaurant/Cafe/Canteen',\n",
      " '_id': ObjectId('66f9f204b5144297d1414299')}\n"
     ]
    }
   ],
   "source": [
    "# Find the document where BusinessType is \"Restaurant/Cafe/Canteen\" and return only BusinessTypeID and BusinessType\n",
    "result = establishments.find_one(\n",
    "    {\"BusinessType\": \"Restaurant/Cafe/Canteen\"},  # Query to match the business type\n",
    "    {\"BusinessTypeID\": 1, \"BusinessType\": 1, \"_id\": 1}  # Projection to return only BusinessTypeID and BusinessType, exclude _id\n",
    ")\n",
    "\n",
    "# Print the result\n",
    "pprint(result)\n"
   ]
  },
  {
   "cell_type": "markdown",
   "id": "4e570caf",
   "metadata": {},
   "source": [
    "3. Update the new restaurant with the `BusinessTypeID` you found."
   ]
  },
  {
   "cell_type": "code",
   "execution_count": 47,
   "id": "e492e64c",
   "metadata": {},
   "outputs": [
    {
     "name": "stdout",
     "output_type": "stream",
     "text": [
      "Updated details for 'Greenwich Halal Restaurant':\n",
      "{'AddressLine1': '10 Greenwich High Road',\n",
      " 'AddressLine2': '',\n",
      " 'AddressLine3': '',\n",
      " 'AddressLine4': 'Greenwich',\n",
      " 'BusinessName': 'Greenwich Halal Restaurant',\n",
      " 'BusinessType': 'Restaurant/Cafe/Canteen',\n",
      " 'BusinessTypeID': 1,\n",
      " 'Geocode': {'latitude': 51.4781, 'longitude': 0.0098},\n",
      " 'Halal': True,\n",
      " 'LocalAuthorityName': 'Greenwich',\n",
      " 'PostCode': 'SE10 8JQ',\n",
      " 'RatingValue': None,\n",
      " 'Scores': {'ConfidenceInManagement': None,\n",
      "            'Hygiene': None,\n",
      "            'Structural': None},\n",
      " '_id': ObjectId('66f9f849b5144297d141429a')}\n"
     ]
    }
   ],
   "source": [
    "# Confirm the update by retrieving the updated restaurant\n",
    "updated_restaurant = establishments.find_one({\"BusinessName\": \"Greenwich Halal Restaurant\"})\n",
    "\n",
    "# Check if the document exists and print it\n",
    "if updated_restaurant:\n",
    "    print(\"Updated details for 'Greenwich Halal Restaurant':\")\n",
    "    from pprint import pprint\n",
    "    pprint(updated_restaurant)\n",
    "else:\n",
    "    print(\"No restaurant found with the name 'Greenwich Halal Restaurant'.\")\n"
   ]
  },
  {
   "cell_type": "markdown",
   "id": "67281254",
   "metadata": {},
   "source": [
    "4. The magazine is not interested in any establishments in Dover, so check how many documents contain the Dover Local Authority. Then, remove any establishments within the Dover Local Authority from the database, and check the number of documents to ensure they were deleted."
   ]
  },
  {
   "cell_type": "code",
   "execution_count": 48,
   "id": "ee960f6e",
   "metadata": {},
   "outputs": [
    {
     "name": "stdout",
     "output_type": "stream",
     "text": [
      "Number of establishments in Dover: 0\n"
     ]
    }
   ],
   "source": [
    "# Step 1: Count the number of establishments with Local Authority 'Dover'\n",
    "dover_count = establishments.count_documents({\"LocalAuthorityName\": \"Dover\"})\n",
    "print(f\"Number of establishments in Dover: {dover_count}\")\n"
   ]
  },
  {
   "cell_type": "code",
   "execution_count": 49,
   "id": "24e39899",
   "metadata": {},
   "outputs": [
    {
     "name": "stdout",
     "output_type": "stream",
     "text": [
      "Number of establishments removed from Dover: 0\n"
     ]
    }
   ],
   "source": [
    "# Step 2: Remove all establishments with Local Authority 'Dover'\n",
    "delete_result = establishments.delete_many({\"LocalAuthorityName\": \"Dover\"})\n",
    "print(f\"Number of establishments removed from Dover: {delete_result.deleted_count}\")"
   ]
  },
  {
   "cell_type": "code",
   "execution_count": 50,
   "id": "6f4fd1b7",
   "metadata": {},
   "outputs": [
    {
     "name": "stdout",
     "output_type": "stream",
     "text": [
      "Number of establishments in Dover after deletion: 0\n"
     ]
    }
   ],
   "source": [
    "# Step 3: Confirm deletion by counting again\n",
    "remaining_dover_count = establishments.count_documents({\"LocalAuthorityName\": \"Dover\"})\n",
    "print(f\"Number of establishments in Dover after deletion: {remaining_dover_count}\")"
   ]
  },
  {
   "cell_type": "code",
   "execution_count": 52,
   "id": "938da343",
   "metadata": {},
   "outputs": [
    {
     "name": "stdout",
     "output_type": "stream",
     "text": [
      "Another document still exists in the 'establishments' collection:\n",
      "{'AddressLine1': '123 Gourmet Avenue',\n",
      " 'AddressLine2': '',\n",
      " 'AddressLine3': '',\n",
      " 'AddressLine4': '',\n",
      " 'BusinessName': 'The Golden Spoon',\n",
      " 'BusinessType': 'Restaurant',\n",
      " 'Phone': '01234 567890',\n",
      " 'PostCode': 'XY12 3AB',\n",
      " 'RatingDate': '2024-09-16',\n",
      " 'RatingValue': 5,\n",
      " '_id': ObjectId('66e7b4977fdb20184b3aad3f'),\n",
      " 'latitude': None,\n",
      " 'longitude': None}\n"
     ]
    }
   ],
   "source": [
    "# Check that other documents remain with 'find_one'\n",
    "other_document = establishments.find_one()\n",
    "\n",
    "# Check that other documents still exist in the collection\n",
    "if other_document:\n",
    "    from pprint import pprint\n",
    "    print(\"Another document still exists in the 'establishments' collection:\")\n",
    "    pprint(other_document)  # Print one of the remaining documents\n",
    "else:\n",
    "    print(\"No other documents exist in the 'establishments' collection.\")\n"
   ]
  },
  {
   "attachments": {},
   "cell_type": "markdown",
   "id": "e9f1662d",
   "metadata": {},
   "source": [
    "5. Some of the number values are stored as strings, when they should be stored as numbers."
   ]
  },
  {
   "attachments": {},
   "cell_type": "markdown",
   "id": "c46df2df",
   "metadata": {},
   "source": [
    "Use `update_many` to convert `latitude` and `longitude` to decimal numbers."
   ]
  },
  {
   "cell_type": "markdown",
   "id": "a8dd41c8",
   "metadata": {},
   "source": [
    "Convert latitude and longitude to Decimal Numbers"
   ]
  },
  {
   "cell_type": "code",
   "execution_count": 53,
   "id": "d8cdcdb6",
   "metadata": {},
   "outputs": [
    {
     "name": "stdout",
     "output_type": "stream",
     "text": [
      "{'AddressLine1': '123 High Street',\n",
      " 'AddressLine2': '',\n",
      " 'AddressLine3': '',\n",
      " 'AddressLine4': 'London',\n",
      " 'BusinessName': 'New Restaurant',\n",
      " 'BusinessType': 'Restaurant/Cafe/Canteen',\n",
      " 'Geocode': {'latitude': 51.5201, 'longitude': -0.0711},\n",
      " 'LocalAuthorityName': 'Tower Hamlets',\n",
      " 'PostCode': 'E1 6AN',\n",
      " 'RatingValue': '5',\n",
      " 'Scores': {'ConfidenceInManagement': 5, 'Hygiene': 5, 'Structural': 5},\n",
      " '_id': ObjectId('66f9f204b5144297d1414299')}\n"
     ]
    }
   ],
   "source": [
    "# Convert latitude and longitude from strings to decimal numbers\n",
    "establishments.update_many(\n",
    "    {\"Geocode.latitude\": {\"$type\": \"string\"}, \"Geocode.longitude\": {\"$type\": \"string\"}},  # Query to find documents with latitude/longitude stored as strings\n",
    "    [\n",
    "        {\n",
    "            \"$set\": {\n",
    "                \"Geocode.latitude\": {\"$toDouble\": \"$Geocode.latitude\"},  # Convert latitude to double\n",
    "                \"Geocode.longitude\": {\"$toDouble\": \"$Geocode.longitude\"}  # Convert longitude to double\n",
    "            }\n",
    "        }\n",
    "    ]\n",
    ")\n",
    "\n",
    "# Verify the update by finding a sample document\n",
    "pprint(establishments.find_one({\"Geocode.latitude\": {\"$exists\": True}, \"Geocode.longitude\": {\"$exists\": True}}))\n"
   ]
  },
  {
   "cell_type": "markdown",
   "id": "a89639d9",
   "metadata": {},
   "source": [
    "Convert RatingValue to Integer"
   ]
  },
  {
   "cell_type": "code",
   "execution_count": 55,
   "id": "add12bb8",
   "metadata": {},
   "outputs": [
    {
     "name": "stdout",
     "output_type": "stream",
     "text": [
      "{'AddressLine1': '123 Gourmet Avenue',\n",
      " 'AddressLine2': '',\n",
      " 'AddressLine3': '',\n",
      " 'AddressLine4': '',\n",
      " 'BusinessName': 'The Golden Spoon',\n",
      " 'BusinessType': 'Restaurant',\n",
      " 'Phone': '01234 567890',\n",
      " 'PostCode': 'XY12 3AB',\n",
      " 'RatingDate': '2024-09-16',\n",
      " 'RatingValue': 5,\n",
      " '_id': ObjectId('66e7b4977fdb20184b3aad3f'),\n",
      " 'latitude': None,\n",
      " 'longitude': None}\n"
     ]
    }
   ],
   "source": [
    "# Convert RatingValue from string to integer\n",
    "establishments.update_many(\n",
    "    {\"RatingValue\": {\"$type\": \"string\"}},  # Query to find documents with RatingValue stored as a string\n",
    "    [\n",
    "        {\n",
    "            \"$set\": {\n",
    "                \"RatingValue\": {\"$toInt\": \"$RatingValue\"}  # Convert RatingValue to integer\n",
    "            }\n",
    "        }\n",
    "    ]\n",
    ")\n",
    "\n",
    "# Verify the update by finding a sample document\n",
    "pprint(establishments.find_one({\"RatingValue\": {\"$exists\": True}}))\n"
   ]
  },
  {
   "attachments": {},
   "cell_type": "markdown",
   "id": "142e319c",
   "metadata": {},
   "source": [
    "Use `update_many` to convert `RatingValue` to integer numbers."
   ]
  },
  {
   "cell_type": "code",
   "execution_count": 59,
   "id": "f4f43328",
   "metadata": {},
   "outputs": [
    {
     "data": {
      "text/plain": [
       "<pymongo.cursor.Cursor at 0x20d92d83410>"
      ]
     },
     "execution_count": 59,
     "metadata": {},
     "output_type": "execute_result"
    }
   ],
   "source": [
    "# Connect to the MongoDB database\n",
    "client = MongoClient('mongodb://localhost:27017/')\n",
    "db = client['your_database']  # Replace with your database name\n",
    "collection = db['your_collection']  # Replace with your collection name\n",
    "\n",
    "# Update all documents to convert RatingValue to an integer\n",
    "collection.update_many(\n",
    "    {\"RatingValue\": {\"$exists\": True}},  # Filter for documents with RatingValue\n",
    "    [{'$set': {'RatingValue': {'$toInt': '$RatingValue'}}}]  # Convert to integer\n",
    ")\n",
    "\n",
    "# Optional: Print the updated documents to verify\n",
    "updated_documents = collection.find({\"RatingValue\": {\"$exists\": True}})\n",
    "updated_documents\n"
   ]
  },
  {
   "cell_type": "code",
   "execution_count": 22,
   "id": "04430a5b",
   "metadata": {},
   "outputs": [
    {
     "name": "stdout",
     "output_type": "stream",
     "text": [
      "No documents with string Longitude and Latitude found.\n"
     ]
    }
   ],
   "source": [
    "# Set non 1-5 Rating Values to Null\n",
    "# Use the update_many method to convert longitude and latitude to decimal\n",
    "from pymongo import UpdateOne\n",
    "\n",
    "# Build a list of updates\n",
    "bulk_updates = []\n",
    "\n",
    "# Find all documents where Longitude and Latitude are strings and need conversion\n",
    "documents = establishments.find({\n",
    "    \"Longitude\": {\"$type\": \"string\"},\n",
    "    \"Latitude\": {\"$type\": \"string\"}\n",
    "})\n",
    "\n",
    "# Iterate over the documents and prepare bulk updates\n",
    "for doc in documents:\n",
    "    bulk_updates.append(\n",
    "        UpdateOne(\n",
    "            {\"_id\": doc[\"_id\"]},  # Use the document's ID to identify it\n",
    "            {\n",
    "                \"$set\": {\n",
    "                    \"Longitude\": {\"$toDecimal\": doc[\"Longitude\"]},\n",
    "                    \"Latitude\": {\"$toDecimal\": doc[\"Latitude\"]}\n",
    "                }\n",
    "            }\n",
    "        )\n",
    "    )\n",
    "\n",
    "# Execute the bulk update\n",
    "if bulk_updates:\n",
    "    result = establishments.bulk_write(bulk_updates)\n",
    "    print(f\"Updated {result.modified_count} documents.\")\n",
    "else:\n",
    "    print(\"No documents with string Longitude and Latitude found.\")\n"
   ]
  },
  {
   "cell_type": "code",
   "execution_count": 23,
   "id": "92524ccc",
   "metadata": {},
   "outputs": [
    {
     "name": "stdout",
     "output_type": "stream",
     "text": [
      "{'RatingValue': 5}\n"
     ]
    }
   ],
   "source": [
    "# Change the data type from String to Integer for RatingValue\n",
    "# Check the format of RatingValue in a sample document\n",
    "db = establishments.find_one({}, {\"RatingValue\": 1, \"_id\": 0})\n",
    "pprint(db)\n"
   ]
  },
  {
   "cell_type": "code",
   "execution_count": 24,
   "id": "0deacaf9",
   "metadata": {},
   "outputs": [
    {
     "name": "stdout",
     "output_type": "stream",
     "text": [
      "{'RatingValue': 5}\n"
     ]
    }
   ],
   "source": [
    "# Check that the coordinates and rating value are now numbers\n",
    "updated_doc = establishments.find_one({}, {\"RatingValue\": 1, \"Longitude\": 1, \"Latitude\": 1, \"_id\": 0})\n",
    "pprint(updated_doc)\n"
   ]
  },
  {
   "cell_type": "code",
   "execution_count": null,
   "id": "9c0455c3",
   "metadata": {},
   "outputs": [],
   "source": [
    "Within your notebook, import the libraries you need: PyMongo and Pretty Print (pprint).\n",
    "List the databases you have in MongoDB. Confirm that uk_food is listed.\n",
    "List the collection(s) in the database to ensure that establishments is there.\n",
    "Find and display one document in the establishments collection using find_one and display with pprint.\n",
    "Assign the establishments collection to a variable to prepare the collection for use\n",
    "# Import dependencies\n",
    "# Create an instance of MongoClient\n",
    "# Import dependencies"
   ]
  }
 ],
 "metadata": {
  "kernelspec": {
   "display_name": "base",
   "language": "python",
   "name": "python3"
  },
  "language_info": {
   "codemirror_mode": {
    "name": "ipython",
    "version": 3
   },
   "file_extension": ".py",
   "mimetype": "text/x-python",
   "name": "python",
   "nbconvert_exporter": "python",
   "pygments_lexer": "ipython3",
   "version": "3.11.7"
  }
 },
 "nbformat": 4,
 "nbformat_minor": 5
}
