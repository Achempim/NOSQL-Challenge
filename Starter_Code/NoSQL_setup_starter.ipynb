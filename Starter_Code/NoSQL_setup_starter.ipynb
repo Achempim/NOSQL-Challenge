{
 "cells": [
  {
   "cell_type": "markdown",
   "id": "9a57c4c6",
   "metadata": {},
   "source": [
    "# Eat Safe, Love"
   ]
  },
  {
   "cell_type": "markdown",
   "id": "064ef857",
   "metadata": {},
   "source": [
    "## Part 1: Database and Jupyter Notebook Set Up"
   ]
  },
  {
   "cell_type": "markdown",
   "id": "664e3c1f",
   "metadata": {},
   "source": [
    "Import the data provided in the `establishments.json` file from your Terminal. Name the database `uk_food` and the collection `establishments`.\n",
    "\n",
    "Within this markdown cell, copy the line of text you used to import the data from your Terminal. This way, future analysts will be able to repeat your process.\n",
    "\n",
    "e.g.: Import the dataset with `YOUR IMPORT TEXT HERE`"
   ]
  },
  {
   "cell_type": "code",
   "execution_count": 60,
   "id": "3ecdd008",
   "metadata": {},
   "outputs": [],
   "source": [
    "# Import dependencies\n",
    "from pymongo import MongoClient\n",
    "from pprint import pprint  # Useful for pretty-printing the MongoDB documents\n"
   ]
  },
  {
   "cell_type": "code",
   "execution_count": 61,
   "id": "59390c4a",
   "metadata": {},
   "outputs": [],
   "source": [
    "# Create an instance of MongoClient\n",
    "mongo = MongoClient(port=27017)  # You might want to specify the host too, default is 'localhost'.\n"
   ]
  },
  {
   "cell_type": "code",
   "execution_count": 62,
   "id": "d0df3f43",
   "metadata": {},
   "outputs": [
    {
     "name": "stdout",
     "output_type": "stream",
     "text": [
      "['admin', 'config', 'fruit_db', 'local', 'uk_food']\n"
     ]
    }
   ],
   "source": [
    "# Confirm that our new database was created\n",
    "# Create an instance of MongoClient\n",
    "client = MongoClient('mongodb://localhost:27017/')  # Correct MongoDB URI format for local connection\n",
    "\n",
    "# Access the 'uk_food' database\n",
    "db = client['uk_food']\n",
    "\n",
    "# You can check if a specific database has been created by listing databases. \n",
    "# MongoDB creates the database only after data is inserted into it.\n",
    "print(client.list_database_names())  # This will print a list of all databases on the MongoDB server.\n"
   ]
  },
  {
   "cell_type": "code",
   "execution_count": 63,
   "id": "f826725e",
   "metadata": {},
   "outputs": [
    {
     "name": "stdout",
     "output_type": "stream",
     "text": [
      "['admin', 'config', 'fruit_db', 'local', 'uk_food']\n"
     ]
    }
   ],
   "source": [
    "# List all databases to confirm 'uk_food' is listed\n",
    "print(client.list_database_names())"
   ]
  },
  {
   "cell_type": "markdown",
   "id": "3f9b6cad",
   "metadata": {},
   "source": [
    " List Collections in 'uk_food' Database:"
   ]
  },
  {
   "cell_type": "code",
   "execution_count": 64,
   "id": "5fee490e",
   "metadata": {},
   "outputs": [
    {
     "name": "stdout",
     "output_type": "stream",
     "text": [
      "['establishments']\n"
     ]
    }
   ],
   "source": [
    "# List collections to confirm 'establishments' is there\n",
    "print(db.list_collection_names())  # Lists all collections in the 'uk_food' database\n"
   ]
  },
  {
   "cell_type": "markdown",
   "id": "29ebb75d",
   "metadata": {},
   "source": [
    "Assign the 'uk_food' Database to a Variable"
   ]
  },
  {
   "cell_type": "code",
   "execution_count": 65,
   "id": "4f3be604",
   "metadata": {},
   "outputs": [],
   "source": [
    "# Assign the 'uk_food' database to a variable name\n",
    "db = client['uk_food']  "
   ]
  },
  {
   "cell_type": "markdown",
   "id": "413ed60b",
   "metadata": {},
   "source": [
    "Review Collections in the Database"
   ]
  },
  {
   "cell_type": "code",
   "execution_count": 66,
   "id": "3ccd2f64",
   "metadata": {},
   "outputs": [
    {
     "name": "stdout",
     "output_type": "stream",
     "text": [
      "Collections in 'uk_food' database: ['establishments']\n"
     ]
    }
   ],
   "source": [
    "# 7# Review the collections in our new database\n",
    "collections = db.list_collection_names()  # List all collections in the 'uk_food' database\n",
    "print(f\"Collections in 'uk_food' database: {collections}\")  # Print collections to confirm\n"
   ]
  },
  {
   "cell_type": "markdown",
   "id": "271a16a3",
   "metadata": {},
   "source": [
    " Assign the 'establishments' Collection to a Variable"
   ]
  },
  {
   "cell_type": "code",
   "execution_count": 67,
   "id": "b70fd291",
   "metadata": {},
   "outputs": [],
   "source": [
    "# 8# Assign the 'establishments' collection to a variable\n",
    "establishments = db['establishments']  # Now the 'establishments' collection is assigned to 'establishments' variable"
   ]
  },
  {
   "cell_type": "markdown",
   "id": "d5671434",
   "metadata": {},
   "source": [
    "## Part 2: Update the Database"
   ]
  },
  {
   "cell_type": "markdown",
   "id": "314bd884",
   "metadata": {},
   "source": [
    "1. An exciting new halal restaurant just opened in Greenwich, but hasn't been rated yet. The magazine has asked you to include it in your analysis. Add the following restaurant \"Penang Flavours\" to the database."
   ]
  },
  {
   "cell_type": "code",
   "execution_count": 68,
   "id": "c2da7648",
   "metadata": {},
   "outputs": [],
   "source": [
    "# Create a dictionary for the new restaurant data\n",
    "new_restaurant = {\n",
    "    \"BusinessName\": \"The Golden Spoon\",\n",
    "    \"BusinessType\": \"Restaurant\",\n",
    "    \"AddressLine1\": \"123 Gourmet Avenue\",\n",
    "    \"AddressLine2\": \"\",\n",
    "    \"AddressLine3\": \"\",\n",
    "    \"AddressLine4\": \"\",\n",
    "    \"PostCode\": \"XY12 3AB\",\n",
    "    \"Phone\": \"01234 567890\",\n",
    "    \"RatingValue\": 5,\n",
    "    \"RatingDate\": \"2024-09-16\"\n",
    "}"
   ]
  },
  {
   "cell_type": "code",
   "execution_count": 69,
   "id": "a6e5cece",
   "metadata": {},
   "outputs": [],
   "source": [
    "# Insert the new restaurant into the 'establishments' collection\n",
    "insert_result = establishments.insert_one(new_restaurant)"
   ]
  },
  {
   "cell_type": "code",
   "execution_count": 70,
   "id": "63bb10f9",
   "metadata": {},
   "outputs": [
    {
     "name": "stdout",
     "output_type": "stream",
     "text": [
      "New restaurant inserted with id: 66f228ffd9e5d9b05afa8490\n"
     ]
    }
   ],
   "source": [
    "# Check that the new restaurant was inserted\n",
    "print(f\"New restaurant inserted with id: {insert_result.inserted_id}\")\n"
   ]
  },
  {
   "cell_type": "code",
   "execution_count": 71,
   "id": "cf055f2f",
   "metadata": {},
   "outputs": [
    {
     "name": "stdout",
     "output_type": "stream",
     "text": [
      "All restaurants in the 'establishments' collection:\n",
      "{'AddressLine1': '123 Gourmet Avenue',\n",
      " 'AddressLine2': '',\n",
      " 'AddressLine3': '',\n",
      " 'AddressLine4': '',\n",
      " 'BusinessName': 'The Golden Spoon',\n",
      " 'BusinessType': 'Restaurant',\n",
      " 'Phone': '01234 567890',\n",
      " 'PostCode': 'XY12 3AB',\n",
      " 'RatingDate': '2024-09-16',\n",
      " 'RatingValue': 5,\n",
      " '_id': ObjectId('66e7b4977fdb20184b3aad3f'),\n",
      " 'latitude': None,\n",
      " 'longitude': None}\n",
      "{'AddressLine1': '123 Gourmet Avenue',\n",
      " 'AddressLine2': '',\n",
      " 'AddressLine3': '',\n",
      " 'AddressLine4': '',\n",
      " 'BusinessName': 'The Golden Spoon',\n",
      " 'BusinessType': 'Restaurant',\n",
      " 'Phone': '01234 567890',\n",
      " 'PostCode': 'XY12 3AB',\n",
      " 'RatingDate': '2024-09-16',\n",
      " 'RatingValue': 5,\n",
      " '_id': ObjectId('66e7b5197fdb20184b3aad40'),\n",
      " 'latitude': None,\n",
      " 'longitude': None}\n",
      "{'AddressLine1': '123 Gourmet Avenue',\n",
      " 'AddressLine2': '',\n",
      " 'AddressLine3': '',\n",
      " 'AddressLine4': '',\n",
      " 'BusinessName': 'The Golden Spoon',\n",
      " 'BusinessType': 'Restaurant',\n",
      " 'Phone': '01234 567890',\n",
      " 'PostCode': 'XY12 3AB',\n",
      " 'RatingDate': '2024-09-16',\n",
      " 'RatingValue': 5,\n",
      " '_id': ObjectId('66e7ba467fdb20184b3aad43'),\n",
      " 'latitude': None,\n",
      " 'longitude': None}\n",
      "{'AddressLine1': '123 Gourmet Avenue',\n",
      " 'AddressLine2': '',\n",
      " 'AddressLine3': '',\n",
      " 'AddressLine4': '',\n",
      " 'BusinessName': 'The Golden Spoon',\n",
      " 'BusinessType': 'Restaurant',\n",
      " 'Phone': '01234 567890',\n",
      " 'PostCode': 'XY12 3AB',\n",
      " 'RatingDate': '2024-09-16',\n",
      " 'RatingValue': 5,\n",
      " '_id': ObjectId('66e7c1a67fdb20184b3aad46'),\n",
      " 'latitude': None,\n",
      " 'longitude': None}\n",
      "{'AddressLine1': '123 Gourmet Avenue',\n",
      " 'AddressLine2': '',\n",
      " 'AddressLine3': '',\n",
      " 'AddressLine4': '',\n",
      " 'BusinessName': 'The Golden Spoon',\n",
      " 'BusinessType': 'Restaurant',\n",
      " 'Phone': '01234 567890',\n",
      " 'PostCode': 'XY12 3AB',\n",
      " 'RatingDate': '2024-09-16',\n",
      " 'RatingValue': 5,\n",
      " '_id': ObjectId('66e8afd154ab1bf63c724675'),\n",
      " 'latitude': None,\n",
      " 'longitude': None}\n",
      "{'AddressLine1': '123 Gourmet Avenue',\n",
      " 'AddressLine2': '',\n",
      " 'AddressLine3': '',\n",
      " 'AddressLine4': '',\n",
      " 'BusinessName': 'The Golden Spoon',\n",
      " 'BusinessType': 'Restaurant',\n",
      " 'Phone': '01234 567890',\n",
      " 'PostCode': 'XY12 3AB',\n",
      " 'RatingDate': '2024-09-16',\n",
      " 'RatingValue': 5,\n",
      " '_id': ObjectId('66e8bfc754ab1bf63c724679'),\n",
      " 'latitude': None,\n",
      " 'longitude': None}\n",
      "{'AddressLine1': '123 Gourmet Avenue',\n",
      " 'AddressLine2': '',\n",
      " 'AddressLine3': '',\n",
      " 'AddressLine4': '',\n",
      " 'BusinessName': 'The Golden Spoon',\n",
      " 'BusinessType': 'Restaurant',\n",
      " 'Phone': '01234 567890',\n",
      " 'PostCode': 'XY12 3AB',\n",
      " 'RatingDate': '2024-09-16',\n",
      " 'RatingValue': 5,\n",
      " '_id': ObjectId('66e8c28ab53de022455c2615'),\n",
      " 'latitude': None,\n",
      " 'longitude': None}\n",
      "{'AddressLine1': '123 Gourmet Avenue',\n",
      " 'AddressLine2': '',\n",
      " 'AddressLine3': '',\n",
      " 'AddressLine4': '',\n",
      " 'BusinessName': 'The Golden Spoon',\n",
      " 'BusinessType': 'Restaurant',\n",
      " 'Phone': '01234 567890',\n",
      " 'PostCode': 'XY12 3AB',\n",
      " 'RatingDate': '2024-09-16',\n",
      " 'RatingValue': 5,\n",
      " '_id': ObjectId('66e8c2ceb12e77716ad75872'),\n",
      " 'latitude': None,\n",
      " 'longitude': None}\n",
      "{'AddressLine1': '123 Gourmet Avenue',\n",
      " 'AddressLine2': '',\n",
      " 'AddressLine3': '',\n",
      " 'AddressLine4': '',\n",
      " 'BusinessName': 'The Golden Spoon',\n",
      " 'BusinessType': 'Restaurant',\n",
      " 'Phone': '01234 567890',\n",
      " 'PostCode': 'XY12 3AB',\n",
      " 'RatingDate': '2024-09-16',\n",
      " 'RatingValue': 5,\n",
      " '_id': ObjectId('66f22426d9e5d9b05afa848c'),\n",
      " 'latitude': None,\n",
      " 'longitude': None}\n",
      "{'AddressLine1': '123 Gourmet Avenue',\n",
      " 'AddressLine2': '',\n",
      " 'AddressLine3': '',\n",
      " 'AddressLine4': '',\n",
      " 'BusinessName': 'The Golden Spoon',\n",
      " 'BusinessType': 'Restaurant',\n",
      " 'Phone': '01234 567890',\n",
      " 'PostCode': 'XY12 3AB',\n",
      " 'RatingDate': '2024-09-16',\n",
      " 'RatingValue': 5,\n",
      " '_id': ObjectId('66f2243fd9e5d9b05afa848d'),\n",
      " 'latitude': None,\n",
      " 'longitude': None}\n",
      "{'AddressLine1': '123 Gourmet Avenue',\n",
      " 'AddressLine2': '',\n",
      " 'AddressLine3': '',\n",
      " 'AddressLine4': '',\n",
      " 'BusinessName': 'The Golden Spoon',\n",
      " 'BusinessType': 'Restaurant',\n",
      " 'Phone': '01234 567890',\n",
      " 'PostCode': 'XY12 3AB',\n",
      " 'RatingDate': '2024-09-16',\n",
      " 'RatingValue': 5,\n",
      " '_id': ObjectId('66f228ffd9e5d9b05afa8490')}\n"
     ]
    }
   ],
   "source": [
    "# Retrieve and print all documents in the 'establishments' collection\n",
    "all_entries = establishments.find()  # Using find() without a filter to get all documents\n",
    "\n",
    "from pprint import pprint\n",
    "print(\"All restaurants in the 'establishments' collection:\")\n",
    "\n",
    "# Loop through and print each document in the collection\n",
    "for entry in all_entries:\n",
    "    pprint(entry)  # Pretty-print each document\n"
   ]
  },
  {
   "cell_type": "markdown",
   "id": "0ef4395a",
   "metadata": {},
   "source": [
    "2. Find the BusinessTypeID for \"Restaurant/Cafe/Canteen\" and return only the `BusinessTypeID` and `BusinessType` fields."
   ]
  },
  {
   "cell_type": "code",
   "execution_count": 72,
   "id": "e9ef3bed",
   "metadata": {},
   "outputs": [
    {
     "name": "stdout",
     "output_type": "stream",
     "text": [
      "BusinessTypeID for 'Restaurant/Cafe/Canteen':\n",
      "None\n"
     ]
    }
   ],
   "source": [
    "# Find the BusinessTypeID for \"Restaurant/Cafe/Canteen\"\n",
    "business_type = establishments.find_one(\n",
    "    {\"BusinessType\": \"Restaurant/Cafe/Canteen\"},  # Query filter\n",
    "    {\"BusinessTypeID\": 1, \"BusinessType\": 1, \"_id\": 0}  # Projection to include BusinessTypeID, exclude _id\n",
    ")\n",
    "\n",
    "# Print the result\n",
    "from pprint import pprint\n",
    "print(\"BusinessTypeID for 'Restaurant/Cafe/Canteen':\")\n",
    "pprint(business_type)\n"
   ]
  },
  {
   "cell_type": "code",
   "execution_count": 73,
   "id": "d5f1653f",
   "metadata": {},
   "outputs": [
    {
     "name": "stdout",
     "output_type": "stream",
     "text": [
      "No document found with BusinessType 'Restaurant/Cafe/Canteen'.\n"
     ]
    }
   ],
   "source": [
    "# Alternatively using \"if, else\"\n",
    "if business_type:\n",
    "    pprint(business_type)\n",
    "else:\n",
    "    print(\"No document found with BusinessType 'Restaurant/Cafe/Canteen'.\")\n"
   ]
  },
  {
   "cell_type": "markdown",
   "id": "4e570caf",
   "metadata": {},
   "source": [
    "3. Update the new restaurant with the `BusinessTypeID` you found."
   ]
  },
  {
   "cell_type": "code",
   "execution_count": 74,
   "id": "e492e64c",
   "metadata": {},
   "outputs": [
    {
     "name": "stdout",
     "output_type": "stream",
     "text": [
      "Updated details for 'The Golden Spoon':\n",
      "{'AddressLine1': '123 Gourmet Avenue',\n",
      " 'AddressLine2': '',\n",
      " 'AddressLine3': '',\n",
      " 'AddressLine4': '',\n",
      " 'BusinessName': 'The Golden Spoon',\n",
      " 'BusinessType': 'Restaurant',\n",
      " 'Phone': '01234 567890',\n",
      " 'PostCode': 'XY12 3AB',\n",
      " 'RatingDate': '2024-09-16',\n",
      " 'RatingValue': 5,\n",
      " '_id': ObjectId('66e7b4977fdb20184b3aad3f'),\n",
      " 'latitude': None,\n",
      " 'longitude': None}\n"
     ]
    }
   ],
   "source": [
    "# Confirm the update by retrieving the updated restaurant\n",
    "updated_restaurant = establishments.find_one({\"BusinessName\": \"The Golden Spoon\"})\n",
    "\n",
    "# Check if the document exists and print it\n",
    "if updated_restaurant:\n",
    "    print(\"Updated details for 'The Golden Spoon':\")\n",
    "    from pprint import pprint\n",
    "    pprint(updated_restaurant)\n",
    "else:\n",
    "    print(\"No restaurant found with the name 'The Golden Spoon'.\")\n"
   ]
  },
  {
   "cell_type": "markdown",
   "id": "67281254",
   "metadata": {},
   "source": [
    "4. The magazine is not interested in any establishments in Dover, so check how many documents contain the Dover Local Authority. Then, remove any establishments within the Dover Local Authority from the database, and check the number of documents to ensure they were deleted."
   ]
  },
  {
   "cell_type": "code",
   "execution_count": 75,
   "id": "9ae00538",
   "metadata": {},
   "outputs": [
    {
     "name": "stdout",
     "output_type": "stream",
     "text": [
      "Number of documents with LocalAuthorityName 'Dover': 0\n"
     ]
    }
   ],
   "source": [
    "# Find how many documents have LocalAuthorityName as \"Dover\"\n",
    "dover_count = establishments.count_documents({\"LocalAuthorityName\": \"Dover\"})\n",
    "\n",
    "# Print the result\n",
    "print(f\"Number of documents with LocalAuthorityName 'Dover': {dover_count}\")\n"
   ]
  },
  {
   "cell_type": "code",
   "execution_count": 76,
   "id": "a11d5f1b",
   "metadata": {},
   "outputs": [
    {
     "name": "stdout",
     "output_type": "stream",
     "text": [
      "Number of documents deleted: 0\n"
     ]
    }
   ],
   "source": [
    "# Delete all documents where LocalAuthorityName is \"Dover\"\n",
    "# Delete all documents where LocalAuthorityName is \"Dover\"\n",
    "delete_result = establishments.delete_many({\"LocalAuthorityName\": \"Dover\"})\n",
    "print(f\"Number of documents deleted: {delete_result.deleted_count}\")"
   ]
  },
  {
   "cell_type": "code",
   "execution_count": 77,
   "id": "2a51aba0",
   "metadata": {},
   "outputs": [
    {
     "name": "stdout",
     "output_type": "stream",
     "text": [
      "Documents remaining with LocalAuthorityName 'Dover': 0\n"
     ]
    }
   ],
   "source": [
    "# Check if any remaining documents include Dover\n",
    "remaining_dover_documents = establishments.count_documents({\"LocalAuthorityName\": \"Dover\"})\n",
    "print(f\"Documents remaining with LocalAuthorityName 'Dover': {remaining_dover_documents}\")\n"
   ]
  },
  {
   "cell_type": "code",
   "execution_count": 78,
   "id": "938da343",
   "metadata": {},
   "outputs": [
    {
     "name": "stdout",
     "output_type": "stream",
     "text": [
      "Another document still exists in the 'establishments' collection:\n",
      "{'AddressLine1': '123 Gourmet Avenue',\n",
      " 'AddressLine2': '',\n",
      " 'AddressLine3': '',\n",
      " 'AddressLine4': '',\n",
      " 'BusinessName': 'The Golden Spoon',\n",
      " 'BusinessType': 'Restaurant',\n",
      " 'Phone': '01234 567890',\n",
      " 'PostCode': 'XY12 3AB',\n",
      " 'RatingDate': '2024-09-16',\n",
      " 'RatingValue': 5,\n",
      " '_id': ObjectId('66e7b4977fdb20184b3aad3f'),\n",
      " 'latitude': None,\n",
      " 'longitude': None}\n"
     ]
    }
   ],
   "source": [
    "# Check that other documents remain with 'find_one'\n",
    "other_document = establishments.find_one()\n",
    "\n",
    "# Check that other documents still exist in the collection\n",
    "if other_document:\n",
    "    from pprint import pprint\n",
    "    print(\"Another document still exists in the 'establishments' collection:\")\n",
    "    pprint(other_document)  # Print one of the remaining documents\n",
    "else:\n",
    "    print(\"No other documents exist in the 'establishments' collection.\")\n"
   ]
  },
  {
   "attachments": {},
   "cell_type": "markdown",
   "id": "e9f1662d",
   "metadata": {},
   "source": [
    "5. Some of the number values are stored as strings, when they should be stored as numbers."
   ]
  },
  {
   "attachments": {},
   "cell_type": "markdown",
   "id": "c46df2df",
   "metadata": {},
   "source": [
    "Use `update_many` to convert `latitude` and `longitude` to decimal numbers."
   ]
  },
  {
   "cell_type": "code",
   "execution_count": 79,
   "id": "01ce267e",
   "metadata": {},
   "outputs": [
    {
     "name": "stdout",
     "output_type": "stream",
     "text": [
      "Number of documents updated: 1\n"
     ]
    }
   ],
   "source": [
    "# Convert `latitude` and `longitude` fields to decimal numbers in all documents\n",
    "result = establishments.update_many(\n",
    "    {},  # Empty filter {} to target all documents in the collection\n",
    "    [\n",
    "        {\n",
    "            \"$set\": {\n",
    "                \"latitude\": { \"$toDouble\": \"$latitude\" },   # Convert latitude to a decimal number\n",
    "                \"longitude\": { \"$toDouble\": \"$longitude\" }  # Convert longitude to a decimal number\n",
    "            }\n",
    "        }\n",
    "    ]\n",
    ")\n",
    "\n",
    "# Print the number of documents that were updated\n",
    "print(f\"Number of documents updated: {result.modified_count}\")\n"
   ]
  },
  {
   "attachments": {},
   "cell_type": "markdown",
   "id": "142e319c",
   "metadata": {},
   "source": [
    "Use `update_many` to convert `RatingValue` to integer numbers."
   ]
  },
  {
   "cell_type": "code",
   "execution_count": 80,
   "id": "da02faf6",
   "metadata": {},
   "outputs": [
    {
     "name": "stdout",
     "output_type": "stream",
     "text": [
      "Number of documents updated: 0\n"
     ]
    }
   ],
   "source": [
    "# Convert `RatingValue` field to integer in all documents\n",
    "result = establishments.update_many(\n",
    "    {},  # Empty filter {} to target all documents in the collection\n",
    "    [\n",
    "        {\n",
    "            \"$set\": {\n",
    "                \"RatingValue\": { \"$toInt\": \"$RatingValue\" }  # Convert RatingValue to an integer\n",
    "            }\n",
    "        }\n",
    "    ]\n",
    ")\n",
    "\n",
    "# Print the number of documents that were updated\n",
    "print(f\"Number of documents updated: {result.modified_count}\")\n"
   ]
  },
  {
   "cell_type": "code",
   "execution_count": 81,
   "id": "04430a5b",
   "metadata": {},
   "outputs": [
    {
     "name": "stdout",
     "output_type": "stream",
     "text": [
      "No documents with string Longitude and Latitude found.\n"
     ]
    }
   ],
   "source": [
    "# Set non 1-5 Rating Values to Null\n",
    "# Use the update_many method to convert longitude and latitude to decimal\n",
    "from pymongo import UpdateOne\n",
    "\n",
    "# Build a list of updates\n",
    "bulk_updates = []\n",
    "\n",
    "# Find all documents where Longitude and Latitude are strings and need conversion\n",
    "documents = establishments.find({\n",
    "    \"Longitude\": {\"$type\": \"string\"},\n",
    "    \"Latitude\": {\"$type\": \"string\"}\n",
    "})\n",
    "\n",
    "# Iterate over the documents and prepare bulk updates\n",
    "for doc in documents:\n",
    "    bulk_updates.append(\n",
    "        UpdateOne(\n",
    "            {\"_id\": doc[\"_id\"]},  # Use the document's ID to identify it\n",
    "            {\n",
    "                \"$set\": {\n",
    "                    \"Longitude\": {\"$toDecimal\": doc[\"Longitude\"]},\n",
    "                    \"Latitude\": {\"$toDecimal\": doc[\"Latitude\"]}\n",
    "                }\n",
    "            }\n",
    "        )\n",
    "    )\n",
    "\n",
    "# Execute the bulk update\n",
    "if bulk_updates:\n",
    "    result = establishments.bulk_write(bulk_updates)\n",
    "    print(f\"Updated {result.modified_count} documents.\")\n",
    "else:\n",
    "    print(\"No documents with string Longitude and Latitude found.\")\n"
   ]
  },
  {
   "cell_type": "code",
   "execution_count": 82,
   "id": "92524ccc",
   "metadata": {},
   "outputs": [
    {
     "name": "stdout",
     "output_type": "stream",
     "text": [
      "{'RatingValue': 5}\n"
     ]
    }
   ],
   "source": [
    "# Change the data type from String to Integer for RatingValue\n",
    "# Check the format of RatingValue in a sample document\n",
    "db = establishments.find_one({}, {\"RatingValue\": 1, \"_id\": 0})\n",
    "pprint(db)\n"
   ]
  },
  {
   "cell_type": "code",
   "execution_count": 83,
   "id": "0deacaf9",
   "metadata": {},
   "outputs": [
    {
     "name": "stdout",
     "output_type": "stream",
     "text": [
      "{'RatingValue': 5}\n"
     ]
    }
   ],
   "source": [
    "# Check that the coordinates and rating value are now numbers\n",
    "updated_doc = establishments.find_one({}, {\"RatingValue\": 1, \"Longitude\": 1, \"Latitude\": 1, \"_id\": 0})\n",
    "pprint(updated_doc)\n"
   ]
  }
 ],
 "metadata": {
  "kernelspec": {
   "display_name": "base",
   "language": "python",
   "name": "python3"
  },
  "language_info": {
   "codemirror_mode": {
    "name": "ipython",
    "version": 3
   },
   "file_extension": ".py",
   "mimetype": "text/x-python",
   "name": "python",
   "nbconvert_exporter": "python",
   "pygments_lexer": "ipython3",
   "version": "3.11.7"
  }
 },
 "nbformat": 4,
 "nbformat_minor": 5
}
