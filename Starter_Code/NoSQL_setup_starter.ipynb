{
 "cells": [
  {
   "cell_type": "markdown",
   "id": "9a57c4c6",
   "metadata": {},
   "source": [
    "# Eat Safe, Love"
   ]
  },
  {
   "cell_type": "markdown",
   "id": "064ef857",
   "metadata": {},
   "source": [
    "## Part 1: Database and Jupyter Notebook Set Up"
   ]
  },
  {
   "cell_type": "markdown",
   "id": "664e3c1f",
   "metadata": {},
   "source": [
    "Import the data provided in the `establishments.json` file from your Terminal. Name the database `uk_food` and the collection `establishments`.\n",
    "\n",
    "Within this markdown cell, copy the line of text you used to import the data from your Terminal. This way, future analysts will be able to repeat your process.\n",
    "\n",
    "e.g.: Import the dataset with `YOUR IMPORT TEXT HERE`"
   ]
  },
  {
   "cell_type": "code",
   "execution_count": 104,
   "id": "3ecdd008",
   "metadata": {},
   "outputs": [],
   "source": [
    "# Import dependencies\n",
    "from pymongo import MongoClient\n",
    "from pprint import pprint"
   ]
  },
  {
   "cell_type": "code",
   "execution_count": 79,
   "id": "59390c4a",
   "metadata": {},
   "outputs": [],
   "source": [
    "# Create an instance of MongoClient\n",
    "mongo = MongoClient(port=27017)"
   ]
  },
  {
   "cell_type": "code",
   "execution_count": 80,
   "id": "7f9ececa",
   "metadata": {},
   "outputs": [],
   "source": [
    "# confirm that our new database was created\n",
    "# Create an instance of MongoClient\n",
    "client = MongoClient('mongodb://localhost:27017/')  # This should be a MongoClient instance, not a string\n",
    "\n",
    "# Access the 'uk_food' database\n",
    "db = client['uk_food']"
   ]
  },
  {
   "cell_type": "code",
   "execution_count": 81,
   "id": "f826725e",
   "metadata": {},
   "outputs": [
    {
     "name": "stdout",
     "output_type": "stream",
     "text": [
      "['admin', 'config', 'fruit_db', 'local', 'uk_food']\n"
     ]
    }
   ],
   "source": [
    "# List all databases to confirm 'uk_food' is listed\n",
    "print(client.list_database_names())"
   ]
  },
  {
   "cell_type": "code",
   "execution_count": 82,
   "id": "2e3bec2a",
   "metadata": {},
   "outputs": [
    {
     "name": "stdout",
     "output_type": "stream",
     "text": [
      "['establishments']\n"
     ]
    }
   ],
   "source": [
    "# List collections to confirm 'establishments' is there\n",
    "print(db.list_collection_names())"
   ]
  },
  {
   "cell_type": "code",
   "execution_count": 83,
   "id": "71e373c1",
   "metadata": {},
   "outputs": [],
   "source": [
    "# assign the uk_food database to a variable name\n",
    "#db = mongo['uk_food']\n",
    "# Assign the uk_food database to a variable name\n",
    "db = client['uk_food']"
   ]
  },
  {
   "cell_type": "code",
   "execution_count": 84,
   "id": "ef1b89ed",
   "metadata": {},
   "outputs": [
    {
     "name": "stdout",
     "output_type": "stream",
     "text": [
      "Collections in 'uk_food' database: ['establishments']\n"
     ]
    }
   ],
   "source": [
    "# review the collections in our new database\n",
    "collections = db.list_collection_names()\n",
    "print(f\"Collections in 'uk_food' database: {collections}\")"
   ]
  },
  {
   "cell_type": "code",
   "execution_count": 85,
   "id": "18ab463c",
   "metadata": {},
   "outputs": [],
   "source": [
    "# Assign the 'establishments' collection to a variable\n",
    "establishments = db['establishments']"
   ]
  },
  {
   "cell_type": "code",
   "execution_count": 86,
   "id": "6a0d92df",
   "metadata": {},
   "outputs": [
    {
     "name": "stdout",
     "output_type": "stream",
     "text": [
      "{'AddressLine1': '123 Gourmet Avenue',\n",
      " 'AddressLine2': '',\n",
      " 'AddressLine3': '',\n",
      " 'AddressLine4': '',\n",
      " 'BusinessName': 'The Golden Spoon',\n",
      " 'BusinessType': 'Restaurant',\n",
      " 'Phone': '01234 567890',\n",
      " 'PostCode': 'XY12 3AB',\n",
      " 'RatingDate': '2024-09-16',\n",
      " 'RatingValue': 5,\n",
      " '_id': ObjectId('66e7b4977fdb20184b3aad3f')}\n"
     ]
    }
   ],
   "source": [
    "# Verify by displaying one document from the 'establishments' collection using find_one\n",
    "from pprint import pprint\n",
    "pprint(establishments.find_one())\n"
   ]
  },
  {
   "cell_type": "code",
   "execution_count": 87,
   "id": "11c9f11b",
   "metadata": {},
   "outputs": [],
   "source": [
    "# assign the collection to a variable\n",
    "establishments = db['establishments']"
   ]
  },
  {
   "cell_type": "markdown",
   "id": "d5671434",
   "metadata": {},
   "source": [
    "## Part 2: Update the Database"
   ]
  },
  {
   "cell_type": "markdown",
   "id": "314bd884",
   "metadata": {},
   "source": [
    "1. An exciting new halal restaurant just opened in Greenwich, but hasn't been rated yet. The magazine has asked you to include it in your analysis. Add the following restaurant \"Penang Flavours\" to the database."
   ]
  },
  {
   "cell_type": "code",
   "execution_count": 88,
   "id": "c2da7648",
   "metadata": {},
   "outputs": [],
   "source": [
    "# Create a dictionary for the new restaurant data\n",
    "new_restaurant = {\n",
    "    \"BusinessName\": \"The Golden Spoon\",\n",
    "    \"BusinessType\": \"Restaurant\",\n",
    "    \"AddressLine1\": \"123 Gourmet Avenue\",\n",
    "    \"AddressLine2\": \"\",\n",
    "    \"AddressLine3\": \"\",\n",
    "    \"AddressLine4\": \"\",\n",
    "    \"PostCode\": \"XY12 3AB\",\n",
    "    \"Phone\": \"01234 567890\",\n",
    "    \"RatingValue\": 5,\n",
    "    \"RatingDate\": \"2024-09-16\"\n",
    "}\n"
   ]
  },
  {
   "cell_type": "code",
   "execution_count": 89,
   "id": "a6e5cece",
   "metadata": {},
   "outputs": [],
   "source": [
    "# Insert the new restaurant into the 'establishments' collection\n",
    "insert_result = establishments.insert_one(new_restaurant)"
   ]
  },
  {
   "cell_type": "code",
   "execution_count": 90,
   "id": "63bb10f9",
   "metadata": {},
   "outputs": [
    {
     "name": "stdout",
     "output_type": "stream",
     "text": [
      "New restaurant inserted with id: 66e7ba467fdb20184b3aad43\n"
     ]
    }
   ],
   "source": [
    "# Check that the new restaurant was inserted\n",
    "print(f\"New restaurant inserted with id: {insert_result.inserted_id}\")\n"
   ]
  },
  {
   "cell_type": "code",
   "execution_count": 91,
   "id": "1aa697cc",
   "metadata": {},
   "outputs": [
    {
     "name": "stdout",
     "output_type": "stream",
     "text": [
      "Newly inserted restaurant details:\n",
      "{'AddressLine1': '123 Gourmet Avenue',\n",
      " 'AddressLine2': '',\n",
      " 'AddressLine3': '',\n",
      " 'AddressLine4': '',\n",
      " 'BusinessName': 'The Golden Spoon',\n",
      " 'BusinessType': 'Restaurant',\n",
      " 'Phone': '01234 567890',\n",
      " 'PostCode': 'XY12 3AB',\n",
      " 'RatingDate': '2024-09-16',\n",
      " 'RatingValue': 5,\n",
      " '_id': ObjectId('66e7b4977fdb20184b3aad3f')}\n"
     ]
    }
   ],
   "source": [
    "# Verify by searching for the newly inserted restaurant by its business name\n",
    "new_entry = establishments.find_one({\"BusinessName\": \"The Golden Spoon\"})\n",
    "\n",
    "from pprint import pprint\n",
    "print(\"Newly inserted restaurant details:\")\n",
    "pprint(new_entry)\n"
   ]
  },
  {
   "cell_type": "markdown",
   "id": "0ef4395a",
   "metadata": {},
   "source": [
    "2. Find the BusinessTypeID for \"Restaurant/Cafe/Canteen\" and return only the `BusinessTypeID` and `BusinessType` fields."
   ]
  },
  {
   "cell_type": "code",
   "execution_count": 92,
   "id": "803e08ab",
   "metadata": {},
   "outputs": [],
   "source": [
    "# Find the BusinessTypeID for \"Restaurant/Cafe/Canteen\"\n",
    "business_type = establishments.find_one(\n",
    "    {\"BusinessType\": \"Restaurant/Cafe/Canteen\"},\n",
    "    {\"BusinessTypeID\": 1, \"BusinessType\": 1, \"_id\": 0}\n",
    ")"
   ]
  },
  {
   "cell_type": "code",
   "execution_count": 93,
   "id": "8de7c0d4",
   "metadata": {},
   "outputs": [
    {
     "name": "stdout",
     "output_type": "stream",
     "text": [
      "None\n"
     ]
    }
   ],
   "source": [
    "# Find the BusinessTypeID for \"Restaurant/Cafe/Canteen\" and return only the BusinessTypeID and BusinessType fields\n",
    "# Display the BusinessTypeID and BusinessType fields\n",
    "from pprint import pprint\n",
    "pprint(business_type)"
   ]
  },
  {
   "cell_type": "markdown",
   "id": "4e570caf",
   "metadata": {},
   "source": [
    "3. Update the new restaurant with the `BusinessTypeID` you found."
   ]
  },
  {
   "cell_type": "code",
   "execution_count": 94,
   "id": "a6ad16f7",
   "metadata": {},
   "outputs": [
    {
     "name": "stdout",
     "output_type": "stream",
     "text": [
      "{'AddressLine1': '123 Gourmet Avenue',\n",
      " 'AddressLine2': '',\n",
      " 'AddressLine3': '',\n",
      " 'AddressLine4': '',\n",
      " 'BusinessName': 'The Golden Spoon',\n",
      " 'BusinessType': 'Restaurant',\n",
      " 'Phone': '01234 567890',\n",
      " 'PostCode': 'XY12 3AB',\n",
      " 'RatingDate': '2024-09-16',\n",
      " 'RatingValue': 5,\n",
      " '_id': ObjectId('66e7b4977fdb20184b3aad3f')}\n"
     ]
    }
   ],
   "source": [
    "# Confirm that the new restaurant was updated\n",
    "# Confirm the update by retrieving the updated restaurant\n",
    "updated_restaurant = establishments.find_one({\"BusinessName\": \"The Golden Spoon\"})\n",
    "pprint(updated_restaurant)\n",
    "\n"
   ]
  },
  {
   "cell_type": "markdown",
   "id": "67281254",
   "metadata": {},
   "source": [
    "4. The magazine is not interested in any establishments in Dover, so check how many documents contain the Dover Local Authority. Then, remove any establishments within the Dover Local Authority from the database, and check the number of documents to ensure they were deleted."
   ]
  },
  {
   "cell_type": "code",
   "execution_count": 95,
   "id": "768474a6",
   "metadata": {},
   "outputs": [
    {
     "name": "stdout",
     "output_type": "stream",
     "text": [
      "Number of documents with LocalAuthorityName 'Dover': 0\n"
     ]
    }
   ],
   "source": [
    "# Find how many documents have LocalAuthorityName as \"Dover\"\n",
    "dover_count = establishments.count_documents({\"LocalAuthorityName\": \"Dover\"})\n",
    "print(f\"Number of documents with LocalAuthorityName 'Dover': {dover_count}\")"
   ]
  },
  {
   "cell_type": "code",
   "execution_count": 96,
   "id": "a11d5f1b",
   "metadata": {},
   "outputs": [
    {
     "name": "stdout",
     "output_type": "stream",
     "text": [
      "Number of documents deleted: 0\n"
     ]
    }
   ],
   "source": [
    "# Delete all documents where LocalAuthorityName is \"Dover\"\n",
    "# Delete all documents where LocalAuthorityName is \"Dover\"\n",
    "delete_result = establishments.delete_many({\"LocalAuthorityName\": \"Dover\"})\n",
    "print(f\"Number of documents deleted: {delete_result.deleted_count}\")"
   ]
  },
  {
   "cell_type": "code",
   "execution_count": 97,
   "id": "2a51aba0",
   "metadata": {},
   "outputs": [
    {
     "name": "stdout",
     "output_type": "stream",
     "text": [
      "Documents remaining with LocalAuthorityName 'Dover': 0\n"
     ]
    }
   ],
   "source": [
    "# Check if any remaining documents include Dover\n",
    "remaining_dover_documents = establishments.count_documents({\"LocalAuthorityName\": \"Dover\"})\n",
    "print(f\"Documents remaining with LocalAuthorityName 'Dover': {remaining_dover_documents}\")\n"
   ]
  },
  {
   "cell_type": "code",
   "execution_count": 98,
   "id": "8c356f7b",
   "metadata": {},
   "outputs": [
    {
     "name": "stdout",
     "output_type": "stream",
     "text": [
      "{'AddressLine1': '123 Gourmet Avenue',\n",
      " 'AddressLine2': '',\n",
      " 'AddressLine3': '',\n",
      " 'AddressLine4': '',\n",
      " 'BusinessName': 'The Golden Spoon',\n",
      " 'BusinessType': 'Restaurant',\n",
      " 'Phone': '01234 567890',\n",
      " 'PostCode': 'XY12 3AB',\n",
      " 'RatingDate': '2024-09-16',\n",
      " 'RatingValue': 5,\n",
      " '_id': ObjectId('66e7b4977fdb20184b3aad3f')}\n"
     ]
    }
   ],
   "source": [
    "# Check that other documents remain with 'find_one'\n",
    "# Check that other documents still exist in the collection\n",
    "any_document = establishments.find_one()\n",
    "pprint(any_document)\n"
   ]
  },
  {
   "attachments": {},
   "cell_type": "markdown",
   "id": "e9f1662d",
   "metadata": {},
   "source": [
    "5. Some of the number values are stored as strings, when they should be stored as numbers."
   ]
  },
  {
   "attachments": {},
   "cell_type": "markdown",
   "id": "c46df2df",
   "metadata": {},
   "source": [
    "Use `update_many` to convert `latitude` and `longitude` to decimal numbers."
   ]
  },
  {
   "cell_type": "code",
   "execution_count": 99,
   "id": "fd4112ce",
   "metadata": {},
   "outputs": [
    {
     "name": "stdout",
     "output_type": "stream",
     "text": [
      "[]\n"
     ]
    }
   ],
   "source": [
    "# Change the data type from String to Decimal for longitude and latitude\n",
    "# Check the format of longitude and latitude in a sample document\n",
    "db = establishments.find_one({}, {\"Longitude\": 1, \"Latitude\": 1, \"_id\": 0})\n",
    "pprint([])"
   ]
  },
  {
   "cell_type": "code",
   "execution_count": 100,
   "id": "85aee952",
   "metadata": {},
   "outputs": [
    {
     "data": {
      "text/plain": [
       "UpdateResult({'n': 0, 'nModified': 0, 'ok': 1.0, 'updatedExisting': False}, acknowledged=True)"
      ]
     },
     "execution_count": 100,
     "metadata": {},
     "output_type": "execute_result"
    }
   ],
   "source": [
    "non_ratings = [\"AwaitingInspection\", \"Awaiting Inspection\", \"AwaitingPublication\", \"Pass\", \"Exempt\"]\n",
    "establishments.update_many({\"RatingValue\": {\"$in\": non_ratings}}, [ {'$set':{ \"RatingValue\" : None}} ])"
   ]
  },
  {
   "attachments": {},
   "cell_type": "markdown",
   "id": "142e319c",
   "metadata": {},
   "source": [
    "Use `update_many` to convert `RatingValue` to integer numbers."
   ]
  },
  {
   "cell_type": "code",
   "execution_count": 101,
   "id": "04430a5b",
   "metadata": {},
   "outputs": [
    {
     "name": "stdout",
     "output_type": "stream",
     "text": [
      "No documents with string Longitude and Latitude found.\n"
     ]
    }
   ],
   "source": [
    "# Set non 1-5 Rating Values to Null\n",
    "# Use the update_many method to convert longitude and latitude to decimal\n",
    "from pymongo import UpdateOne\n",
    "\n",
    "# Build a list of updates\n",
    "bulk_updates = []\n",
    "\n",
    "# Find all documents where Longitude and Latitude are strings and need conversion\n",
    "documents = establishments.find({\n",
    "    \"Longitude\": {\"$type\": \"string\"},\n",
    "    \"Latitude\": {\"$type\": \"string\"}\n",
    "})\n",
    "\n",
    "# Iterate over the documents and prepare bulk updates\n",
    "for doc in documents:\n",
    "    bulk_updates.append(\n",
    "        UpdateOne(\n",
    "            {\"_id\": doc[\"_id\"]},  # Use the document's ID to identify it\n",
    "            {\n",
    "                \"$set\": {\n",
    "                    \"Longitude\": {\"$toDecimal\": doc[\"Longitude\"]},\n",
    "                    \"Latitude\": {\"$toDecimal\": doc[\"Latitude\"]}\n",
    "                }\n",
    "            }\n",
    "        )\n",
    "    )\n",
    "\n",
    "# Execute the bulk update\n",
    "if bulk_updates:\n",
    "    result = establishments.bulk_write(bulk_updates)\n",
    "    print(f\"Updated {result.modified_count} documents.\")\n",
    "else:\n",
    "    print(\"No documents with string Longitude and Latitude found.\")\n"
   ]
  },
  {
   "cell_type": "code",
   "execution_count": 102,
   "id": "92524ccc",
   "metadata": {},
   "outputs": [
    {
     "name": "stdout",
     "output_type": "stream",
     "text": [
      "{'RatingValue': 5}\n"
     ]
    }
   ],
   "source": [
    "# Change the data type from String to Integer for RatingValue\n",
    "# Check the format of RatingValue in a sample document\n",
    "db = establishments.find_one({}, {\"RatingValue\": 1, \"_id\": 0})\n",
    "pprint(db)\n"
   ]
  },
  {
   "cell_type": "code",
   "execution_count": 103,
   "id": "0deacaf9",
   "metadata": {},
   "outputs": [
    {
     "name": "stdout",
     "output_type": "stream",
     "text": [
      "{'RatingValue': 5}\n"
     ]
    }
   ],
   "source": [
    "# Check that the coordinates and rating value are now numbers\n",
    "updated_doc = establishments.find_one({}, {\"RatingValue\": 1, \"Longitude\": 1, \"Latitude\": 1, \"_id\": 0})\n",
    "pprint(updated_doc)\n"
   ]
  }
 ],
 "metadata": {
  "kernelspec": {
   "display_name": "Python 3",
   "language": "python",
   "name": "python3"
  },
  "language_info": {
   "codemirror_mode": {
    "name": "ipython",
    "version": 3
   },
   "file_extension": ".py",
   "mimetype": "text/x-python",
   "name": "python",
   "nbconvert_exporter": "python",
   "pygments_lexer": "ipython3",
   "version": "3.12.4"
  }
 },
 "nbformat": 4,
 "nbformat_minor": 5
}
